{
 "cells": [
  {
   "cell_type": "code",
   "execution_count": 38,
   "id": "9e78c998",
   "metadata": {},
   "outputs": [],
   "source": [
    "import pandas as pd"
   ]
  },
  {
   "cell_type": "code",
   "execution_count": 39,
   "id": "d1bb4e10",
   "metadata": {
    "scrolled": true
   },
   "outputs": [],
   "source": [
    "test_2018 = pd.read_csv('../know_Data/test/KNOW_2018_test 밀린부분 복원.csv', encoding='cp949')"
   ]
  },
  {
   "cell_type": "code",
   "execution_count": 40,
   "id": "ebb329d6",
   "metadata": {},
   "outputs": [
    {
     "data": {
      "text/html": [
       "<div>\n",
       "<style scoped>\n",
       "    .dataframe tbody tr th:only-of-type {\n",
       "        vertical-align: middle;\n",
       "    }\n",
       "\n",
       "    .dataframe tbody tr th {\n",
       "        vertical-align: top;\n",
       "    }\n",
       "\n",
       "    .dataframe thead th {\n",
       "        text-align: right;\n",
       "    }\n",
       "</style>\n",
       "<table border=\"1\" class=\"dataframe\">\n",
       "  <thead>\n",
       "    <tr style=\"text-align: right;\">\n",
       "      <th></th>\n",
       "      <th>idx</th>\n",
       "      <th>cq1</th>\n",
       "      <th>cq2</th>\n",
       "      <th>cq3</th>\n",
       "      <th>cq4</th>\n",
       "      <th>cq5</th>\n",
       "      <th>cq6</th>\n",
       "      <th>cq7</th>\n",
       "      <th>cq8</th>\n",
       "      <th>cq9</th>\n",
       "      <th>...</th>\n",
       "      <th>bq37</th>\n",
       "      <th>bq37_1</th>\n",
       "      <th>bq38</th>\n",
       "      <th>bq38_1</th>\n",
       "      <th>bq38_2</th>\n",
       "      <th>bq39</th>\n",
       "      <th>bq40</th>\n",
       "      <th>bq41_1</th>\n",
       "      <th>bq41_2</th>\n",
       "      <th>bq41_3</th>\n",
       "    </tr>\n",
       "  </thead>\n",
       "  <tbody>\n",
       "    <tr>\n",
       "      <th>0</th>\n",
       "      <td>9486</td>\n",
       "      <td>4</td>\n",
       "      <td>1</td>\n",
       "      <td>3</td>\n",
       "      <td>1</td>\n",
       "      <td>1</td>\n",
       "      <td>3</td>\n",
       "      <td>2</td>\n",
       "      <td>3</td>\n",
       "      <td>1</td>\n",
       "      <td>...</td>\n",
       "      <td>1</td>\n",
       "      <td></td>\n",
       "      <td>2</td>\n",
       "      <td></td>\n",
       "      <td>6</td>\n",
       "      <td></td>\n",
       "      <td>35.0</td>\n",
       "      <td></td>\n",
       "      <td></td>\n",
       "      <td>2000</td>\n",
       "    </tr>\n",
       "    <tr>\n",
       "      <th>1</th>\n",
       "      <td>9487</td>\n",
       "      <td>5</td>\n",
       "      <td>4</td>\n",
       "      <td>5</td>\n",
       "      <td>5</td>\n",
       "      <td>5</td>\n",
       "      <td>5</td>\n",
       "      <td>3</td>\n",
       "      <td>3</td>\n",
       "      <td>3</td>\n",
       "      <td>...</td>\n",
       "      <td>4</td>\n",
       "      <td>커뮤니케이션 디자인 전공</td>\n",
       "      <td>1</td>\n",
       "      <td>1</td>\n",
       "      <td></td>\n",
       "      <td>1</td>\n",
       "      <td>65.0</td>\n",
       "      <td>2700</td>\n",
       "      <td>2200</td>\n",
       "      <td></td>\n",
       "    </tr>\n",
       "    <tr>\n",
       "      <th>2</th>\n",
       "      <td>9488</td>\n",
       "      <td>3</td>\n",
       "      <td>3</td>\n",
       "      <td>3</td>\n",
       "      <td>4</td>\n",
       "      <td>3</td>\n",
       "      <td>3</td>\n",
       "      <td>4</td>\n",
       "      <td>4</td>\n",
       "      <td>2</td>\n",
       "      <td>...</td>\n",
       "      <td>4</td>\n",
       "      <td>국문학과</td>\n",
       "      <td>2</td>\n",
       "      <td></td>\n",
       "      <td>6</td>\n",
       "      <td></td>\n",
       "      <td>60.0</td>\n",
       "      <td></td>\n",
       "      <td></td>\n",
       "      <td>3200</td>\n",
       "    </tr>\n",
       "    <tr>\n",
       "      <th>3</th>\n",
       "      <td>9489</td>\n",
       "      <td>4</td>\n",
       "      <td>4</td>\n",
       "      <td>4</td>\n",
       "      <td>4</td>\n",
       "      <td>2</td>\n",
       "      <td>3</td>\n",
       "      <td>3</td>\n",
       "      <td>4</td>\n",
       "      <td>4</td>\n",
       "      <td>...</td>\n",
       "      <td>3</td>\n",
       "      <td>극작학과</td>\n",
       "      <td>2</td>\n",
       "      <td></td>\n",
       "      <td>6</td>\n",
       "      <td></td>\n",
       "      <td>20.0</td>\n",
       "      <td></td>\n",
       "      <td></td>\n",
       "      <td>2000</td>\n",
       "    </tr>\n",
       "    <tr>\n",
       "      <th>4</th>\n",
       "      <td>9490</td>\n",
       "      <td>5</td>\n",
       "      <td>2</td>\n",
       "      <td>3</td>\n",
       "      <td>2</td>\n",
       "      <td>4</td>\n",
       "      <td>4</td>\n",
       "      <td>4</td>\n",
       "      <td>4</td>\n",
       "      <td>3</td>\n",
       "      <td>...</td>\n",
       "      <td>2</td>\n",
       "      <td>실업</td>\n",
       "      <td>1</td>\n",
       "      <td>4</td>\n",
       "      <td></td>\n",
       "      <td>2</td>\n",
       "      <td>35.0</td>\n",
       "      <td>3000</td>\n",
       "      <td>1500</td>\n",
       "      <td></td>\n",
       "    </tr>\n",
       "    <tr>\n",
       "      <th>...</th>\n",
       "      <td>...</td>\n",
       "      <td>...</td>\n",
       "      <td>...</td>\n",
       "      <td>...</td>\n",
       "      <td>...</td>\n",
       "      <td>...</td>\n",
       "      <td>...</td>\n",
       "      <td>...</td>\n",
       "      <td>...</td>\n",
       "      <td>...</td>\n",
       "      <td>...</td>\n",
       "      <td>...</td>\n",
       "      <td>...</td>\n",
       "      <td>...</td>\n",
       "      <td>...</td>\n",
       "      <td>...</td>\n",
       "      <td>...</td>\n",
       "      <td>...</td>\n",
       "      <td>...</td>\n",
       "      <td>...</td>\n",
       "      <td>...</td>\n",
       "    </tr>\n",
       "    <tr>\n",
       "      <th>9064</th>\n",
       "      <td>18564</td>\n",
       "      <td>5</td>\n",
       "      <td>4</td>\n",
       "      <td>2</td>\n",
       "      <td>2</td>\n",
       "      <td>2</td>\n",
       "      <td>4</td>\n",
       "      <td>4</td>\n",
       "      <td>3</td>\n",
       "      <td>3</td>\n",
       "      <td>...</td>\n",
       "      <td>4</td>\n",
       "      <td>호텔조리학</td>\n",
       "      <td>2</td>\n",
       "      <td></td>\n",
       "      <td>5</td>\n",
       "      <td></td>\n",
       "      <td>72.0</td>\n",
       "      <td></td>\n",
       "      <td></td>\n",
       "      <td>8000</td>\n",
       "    </tr>\n",
       "    <tr>\n",
       "      <th>9065</th>\n",
       "      <td>18565</td>\n",
       "      <td>2</td>\n",
       "      <td>2</td>\n",
       "      <td>5</td>\n",
       "      <td>5</td>\n",
       "      <td>5</td>\n",
       "      <td>4</td>\n",
       "      <td>4</td>\n",
       "      <td>4</td>\n",
       "      <td>4</td>\n",
       "      <td>...</td>\n",
       "      <td>5</td>\n",
       "      <td>식품공학</td>\n",
       "      <td>1</td>\n",
       "      <td>1</td>\n",
       "      <td></td>\n",
       "      <td>1</td>\n",
       "      <td>40.0</td>\n",
       "      <td>3000</td>\n",
       "      <td>2100</td>\n",
       "      <td></td>\n",
       "    </tr>\n",
       "    <tr>\n",
       "      <th>9066</th>\n",
       "      <td>18566</td>\n",
       "      <td>4</td>\n",
       "      <td>4</td>\n",
       "      <td>3</td>\n",
       "      <td>2</td>\n",
       "      <td>2</td>\n",
       "      <td>3</td>\n",
       "      <td>4</td>\n",
       "      <td>4</td>\n",
       "      <td>4</td>\n",
       "      <td>...</td>\n",
       "      <td>4</td>\n",
       "      <td>환경공학</td>\n",
       "      <td>1</td>\n",
       "      <td>2</td>\n",
       "      <td></td>\n",
       "      <td>2</td>\n",
       "      <td>40.0</td>\n",
       "      <td>1800</td>\n",
       "      <td>1800</td>\n",
       "      <td></td>\n",
       "    </tr>\n",
       "    <tr>\n",
       "      <th>9067</th>\n",
       "      <td>18567</td>\n",
       "      <td>4</td>\n",
       "      <td>2</td>\n",
       "      <td>5</td>\n",
       "      <td>5</td>\n",
       "      <td>5</td>\n",
       "      <td>5</td>\n",
       "      <td>3</td>\n",
       "      <td>4</td>\n",
       "      <td>3</td>\n",
       "      <td>...</td>\n",
       "      <td>5</td>\n",
       "      <td>식품공학</td>\n",
       "      <td>1</td>\n",
       "      <td>1</td>\n",
       "      <td></td>\n",
       "      <td>1</td>\n",
       "      <td>52.0</td>\n",
       "      <td>3500</td>\n",
       "      <td>2800</td>\n",
       "      <td></td>\n",
       "    </tr>\n",
       "    <tr>\n",
       "      <th>9068</th>\n",
       "      <td>18568</td>\n",
       "      <td>4</td>\n",
       "      <td>2</td>\n",
       "      <td>5</td>\n",
       "      <td>4</td>\n",
       "      <td>5</td>\n",
       "      <td>5</td>\n",
       "      <td>4</td>\n",
       "      <td>5</td>\n",
       "      <td>4</td>\n",
       "      <td>...</td>\n",
       "      <td>4</td>\n",
       "      <td>농학</td>\n",
       "      <td>1</td>\n",
       "      <td>1</td>\n",
       "      <td></td>\n",
       "      <td>1</td>\n",
       "      <td>40.0</td>\n",
       "      <td>2500</td>\n",
       "      <td>2500</td>\n",
       "      <td></td>\n",
       "    </tr>\n",
       "  </tbody>\n",
       "</table>\n",
       "<p>9069 rows × 140 columns</p>\n",
       "</div>"
      ],
      "text/plain": [
       "        idx  cq1  cq2  cq3  cq4  cq5  cq6  cq7  cq8  cq9  ...  bq37  \\\n",
       "0      9486    4    1    3    1    1    3    2    3    1  ...     1   \n",
       "1      9487    5    4    5    5    5    5    3    3    3  ...     4   \n",
       "2      9488    3    3    3    4    3    3    4    4    2  ...     4   \n",
       "3      9489    4    4    4    4    2    3    3    4    4  ...     3   \n",
       "4      9490    5    2    3    2    4    4    4    4    3  ...     2   \n",
       "...     ...  ...  ...  ...  ...  ...  ...  ...  ...  ...  ...   ...   \n",
       "9064  18564    5    4    2    2    2    4    4    3    3  ...     4   \n",
       "9065  18565    2    2    5    5    5    4    4    4    4  ...     5   \n",
       "9066  18566    4    4    3    2    2    3    4    4    4  ...     4   \n",
       "9067  18567    4    2    5    5    5    5    3    4    3  ...     5   \n",
       "9068  18568    4    2    5    4    5    5    4    5    4  ...     4   \n",
       "\n",
       "             bq37_1  bq38  bq38_1  bq38_2  bq39  bq40  bq41_1  bq41_2  bq41_3  \n",
       "0                       2               6        35.0                    2000  \n",
       "1     커뮤니케이션 디자인 전공     1       1             1  65.0    2700    2200          \n",
       "2              국문학과     2               6        60.0                    3200  \n",
       "3              극작학과     2               6        20.0                    2000  \n",
       "4                실업     1       4             2  35.0    3000    1500          \n",
       "...             ...   ...     ...     ...   ...   ...     ...     ...     ...  \n",
       "9064          호텔조리학     2               5        72.0                    8000  \n",
       "9065           식품공학     1       1             1  40.0    3000    2100          \n",
       "9066           환경공학     1       2             2  40.0    1800    1800          \n",
       "9067           식품공학     1       1             1  52.0    3500    2800          \n",
       "9068             농학     1       1             1  40.0    2500    2500          \n",
       "\n",
       "[9069 rows x 140 columns]"
      ]
     },
     "execution_count": 40,
     "metadata": {},
     "output_type": "execute_result"
    }
   ],
   "source": [
    "test_2018"
   ]
  },
  {
   "cell_type": "code",
   "execution_count": 41,
   "id": "9672e695",
   "metadata": {},
   "outputs": [],
   "source": [
    "train_2018 = pd.read_csv('know_2018_enutf.csv')"
   ]
  },
  {
   "cell_type": "code",
   "execution_count": 42,
   "id": "ed287953",
   "metadata": {},
   "outputs": [
    {
     "data": {
      "text/plain": [
       "idx     0\n",
       "cq1     0\n",
       "cq2     0\n",
       "cq3     0\n",
       "cq4     0\n",
       "cq5     0\n",
       "cq6     0\n",
       "cq7     0\n",
       "cq8     0\n",
       "cq9     0\n",
       "cq10    0\n",
       "cq11    0\n",
       "cq12    0\n",
       "cq13    0\n",
       "cq14    0\n",
       "cq15    0\n",
       "cq16    0\n",
       "cq17    0\n",
       "cq18    0\n",
       "cq19    0\n",
       "cq20    0\n",
       "cq21    0\n",
       "cq22    0\n",
       "cq23    0\n",
       "cq24    0\n",
       "cq25    0\n",
       "cq26    0\n",
       "cq27    0\n",
       "cq28    0\n",
       "cq29    0\n",
       "cq30    0\n",
       "cq31    0\n",
       "cq32    0\n",
       "cq33    0\n",
       "cq34    0\n",
       "cq35    0\n",
       "cq36    0\n",
       "cq37    0\n",
       "cq38    0\n",
       "cq39    0\n",
       "cq40    0\n",
       "cq41    0\n",
       "cq42    0\n",
       "cq43    0\n",
       "cq44    0\n",
       "cq45    0\n",
       "cq46    0\n",
       "cq47    0\n",
       "cq48    0\n",
       "cq49    0\n",
       "dtype: int64"
      ]
     },
     "execution_count": 42,
     "metadata": {},
     "output_type": "execute_result"
    }
   ],
   "source": [
    "test_2018.isnull().sum()[:50]"
   ]
  },
  {
   "cell_type": "code",
   "execution_count": 43,
   "id": "d56a8bdd",
   "metadata": {},
   "outputs": [
    {
     "data": {
      "text/plain": [
       "cq50_1    0\n",
       "cq50_2    0\n",
       "cq50_3    0\n",
       "cq50_4    0\n",
       "cq50_5    0\n",
       "cq50_6    0\n",
       "cq50_7    0\n",
       "cq50_8    0\n",
       "iq1       0\n",
       "iq2       0\n",
       "iq3       0\n",
       "iq4       0\n",
       "iq5       0\n",
       "iq6       0\n",
       "bq1       0\n",
       "bq2       0\n",
       "bq3       0\n",
       "bq4       0\n",
       "bq4_1a    0\n",
       "bq4_1b    0\n",
       "bq4_1c    0\n",
       "bq5       0\n",
       "bq5_1     0\n",
       "bq5_2     0\n",
       "bq6       0\n",
       "bq7       0\n",
       "bq8_1     0\n",
       "bq8_2     0\n",
       "bq8_3     0\n",
       "bq9       0\n",
       "bq10      0\n",
       "bq11      0\n",
       "bq12_1    0\n",
       "bq12_2    0\n",
       "bq12_3    0\n",
       "bq12_4    0\n",
       "bq12_5    0\n",
       "bq13      0\n",
       "bq14      0\n",
       "bq15      0\n",
       "bq16      0\n",
       "bq17      0\n",
       "bq18      0\n",
       "bq19      0\n",
       "bq20      0\n",
       "bq21      0\n",
       "bq221     0\n",
       "bq222     0\n",
       "bq223     0\n",
       "bq231     0\n",
       "dtype: int64"
      ]
     },
     "execution_count": 43,
     "metadata": {},
     "output_type": "execute_result"
    }
   ],
   "source": [
    "test_2018.isnull().sum()[50:100]"
   ]
  },
  {
   "cell_type": "code",
   "execution_count": 44,
   "id": "466243f3",
   "metadata": {},
   "outputs": [
    {
     "data": {
      "text/plain": [
       "bq232       0\n",
       "bq233       0\n",
       "bq234       0\n",
       "bq235       0\n",
       "bq241       0\n",
       "bq242       0\n",
       "bq243       0\n",
       "bq244       0\n",
       "bq245       0\n",
       "bq25        0\n",
       "bq25_1      0\n",
       "bq26_1      0\n",
       "bq26_1a     0\n",
       "bq26_2      0\n",
       "bq26_2a     0\n",
       "bq26_3      0\n",
       "bq26_3a     0\n",
       "bq26_4      0\n",
       "bq26_4a     0\n",
       "bq27        0\n",
       "bq28        0\n",
       "bq28_1      0\n",
       "bq29        0\n",
       "bq30        0\n",
       "bq31        1\n",
       "bq32        0\n",
       "bq33        0\n",
       "bq34        0\n",
       "bq35        0\n",
       "bq36        0\n",
       "bq37        0\n",
       "bq37_1      0\n",
       "bq38        0\n",
       "bq38_1      0\n",
       "bq38_2      0\n",
       "bq39        0\n",
       "bq40        0\n",
       "bq41_1      0\n",
       "bq41_2      0\n",
       "bq41_3     32\n",
       "dtype: int64"
      ]
     },
     "execution_count": 44,
     "metadata": {},
     "output_type": "execute_result"
    }
   ],
   "source": [
    "test_2018.isnull().sum()[100:]"
   ]
  },
  {
   "cell_type": "code",
   "execution_count": 45,
   "id": "cfc95747",
   "metadata": {
    "scrolled": true
   },
   "outputs": [
    {
     "name": "stdout",
     "output_type": "stream",
     "text": [
      "<class 'pandas.core.frame.DataFrame'>\n",
      "RangeIndex: 9069 entries, 0 to 9068\n",
      "Data columns (total 140 columns):\n",
      " #    Column   Dtype  \n",
      "---   ------   -----  \n",
      " 0    idx      int64  \n",
      " 1    cq1      int64  \n",
      " 2    cq2      int64  \n",
      " 3    cq3      int64  \n",
      " 4    cq4      int64  \n",
      " 5    cq5      int64  \n",
      " 6    cq6      int64  \n",
      " 7    cq7      int64  \n",
      " 8    cq8      int64  \n",
      " 9    cq9      int64  \n",
      " 10   cq10     int64  \n",
      " 11   cq11     int64  \n",
      " 12   cq12     int64  \n",
      " 13   cq13     int64  \n",
      " 14   cq14     int64  \n",
      " 15   cq15     int64  \n",
      " 16   cq16     int64  \n",
      " 17   cq17     int64  \n",
      " 18   cq18     int64  \n",
      " 19   cq19     int64  \n",
      " 20   cq20     int64  \n",
      " 21   cq21     int64  \n",
      " 22   cq22     int64  \n",
      " 23   cq23     int64  \n",
      " 24   cq24     int64  \n",
      " 25   cq25     int64  \n",
      " 26   cq26     int64  \n",
      " 27   cq27     int64  \n",
      " 28   cq28     int64  \n",
      " 29   cq29     int64  \n",
      " 30   cq30     int64  \n",
      " 31   cq31     int64  \n",
      " 32   cq32     int64  \n",
      " 33   cq33     int64  \n",
      " 34   cq34     int64  \n",
      " 35   cq35     int64  \n",
      " 36   cq36     int64  \n",
      " 37   cq37     int64  \n",
      " 38   cq38     int64  \n",
      " 39   cq39     int64  \n",
      " 40   cq40     int64  \n",
      " 41   cq41     int64  \n",
      " 42   cq42     int64  \n",
      " 43   cq43     int64  \n",
      " 44   cq44     int64  \n",
      " 45   cq45     int64  \n",
      " 46   cq46     int64  \n",
      " 47   cq47     int64  \n",
      " 48   cq48     int64  \n",
      " 49   cq49     int64  \n",
      " 50   cq50_1   int64  \n",
      " 51   cq50_2   int64  \n",
      " 52   cq50_3   int64  \n",
      " 53   cq50_4   int64  \n",
      " 54   cq50_5   int64  \n",
      " 55   cq50_6   int64  \n",
      " 56   cq50_7   int64  \n",
      " 57   cq50_8   int64  \n",
      " 58   iq1      int64  \n",
      " 59   iq2      int64  \n",
      " 60   iq3      int64  \n",
      " 61   iq4      int64  \n",
      " 62   iq5      int64  \n",
      " 63   iq6      int64  \n",
      " 64   bq1      int64  \n",
      " 65   bq2      int64  \n",
      " 66   bq3      int64  \n",
      " 67   bq4      int64  \n",
      " 68   bq4_1a   object \n",
      " 69   bq4_1b   object \n",
      " 70   bq4_1c   object \n",
      " 71   bq5      int64  \n",
      " 72   bq5_1    object \n",
      " 73   bq5_2    object \n",
      " 74   bq6      int64  \n",
      " 75   bq7      int64  \n",
      " 76   bq8_1    int64  \n",
      " 77   bq8_2    int64  \n",
      " 78   bq8_3    int64  \n",
      " 79   bq9      int64  \n",
      " 80   bq10     int64  \n",
      " 81   bq11     int64  \n",
      " 82   bq12_1   int64  \n",
      " 83   bq12_2   object \n",
      " 84   bq12_3   object \n",
      " 85   bq12_4   object \n",
      " 86   bq12_5   int64  \n",
      " 87   bq13     int64  \n",
      " 88   bq14     int64  \n",
      " 89   bq15     int64  \n",
      " 90   bq16     int64  \n",
      " 91   bq17     int64  \n",
      " 92   bq18     int64  \n",
      " 93   bq19     int64  \n",
      " 94   bq20     int64  \n",
      " 95   bq21     int64  \n",
      " 96   bq221    object \n",
      " 97   bq222    object \n",
      " 98   bq223    int64  \n",
      " 99   bq231    object \n",
      " 100  bq232    int64  \n",
      " 101  bq233    int64  \n",
      " 102  bq234    int64  \n",
      " 103  bq235    object \n",
      " 104  bq241    object \n",
      " 105  bq242    object \n",
      " 106  bq243    object \n",
      " 107  bq244    object \n",
      " 108  bq245    object \n",
      " 109  bq25     int64  \n",
      " 110  bq25_1   object \n",
      " 111  bq26_1   int64  \n",
      " 112  bq26_1a  object \n",
      " 113  bq26_2   int64  \n",
      " 114  bq26_2a  object \n",
      " 115  bq26_3   int64  \n",
      " 116  bq26_3a  object \n",
      " 117  bq26_4   int64  \n",
      " 118  bq26_4a  object \n",
      " 119  bq27     int64  \n",
      " 120  bq28     int64  \n",
      " 121  bq28_1   object \n",
      " 122  bq29     object \n",
      " 123  bq30     object \n",
      " 124  bq31     object \n",
      " 125  bq32     object \n",
      " 126  bq33     object \n",
      " 127  bq34     int64  \n",
      " 128  bq35     int64  \n",
      " 129  bq36     int64  \n",
      " 130  bq37     int64  \n",
      " 131  bq37_1   object \n",
      " 132  bq38     int64  \n",
      " 133  bq38_1   object \n",
      " 134  bq38_2   object \n",
      " 135  bq39     object \n",
      " 136  bq40     float64\n",
      " 137  bq41_1   object \n",
      " 138  bq41_2   object \n",
      " 139  bq41_3   object \n",
      "dtypes: float64(1), int64(104), object(35)\n",
      "memory usage: 9.7+ MB\n"
     ]
    }
   ],
   "source": [
    "test_2018.info(verbose=True)"
   ]
  },
  {
   "cell_type": "code",
   "execution_count": 46,
   "id": "85a3132c",
   "metadata": {
    "scrolled": false
   },
   "outputs": [
    {
     "name": "stdout",
     "output_type": "stream",
     "text": [
      "idx 9069\n",
      "cq1 5\n",
      "cq2 5\n",
      "cq3 5\n",
      "cq4 5\n",
      "cq5 5\n",
      "cq6 5\n",
      "cq7 5\n",
      "cq8 5\n",
      "cq9 5\n",
      "cq10 5\n",
      "cq11 5\n",
      "cq12 5\n",
      "cq13 5\n",
      "cq14 5\n",
      "cq15 5\n",
      "cq16 5\n",
      "cq17 5\n",
      "cq18 5\n",
      "cq19 5\n",
      "cq20 5\n",
      "cq21 5\n",
      "cq22 5\n",
      "cq23 5\n",
      "cq24 5\n",
      "cq25 5\n",
      "cq26 5\n",
      "cq27 5\n",
      "cq28 5\n",
      "cq29 5\n",
      "cq30 5\n",
      "cq31 5\n",
      "cq32 5\n",
      "cq33 5\n",
      "cq34 5\n",
      "cq35 5\n",
      "cq36 5\n",
      "cq37 5\n",
      "cq38 5\n",
      "cq39 5\n",
      "cq40 5\n",
      "cq41 5\n",
      "cq42 5\n",
      "cq43 5\n",
      "cq44 5\n",
      "cq45 5\n",
      "cq46 5\n",
      "cq47 3\n",
      "cq48 2\n",
      "cq49 5\n",
      "cq50_1 3\n",
      "cq50_2 3\n",
      "cq50_3 3\n",
      "cq50_4 3\n",
      "cq50_5 3\n",
      "cq50_6 3\n",
      "cq50_7 3\n",
      "cq50_8 3\n",
      "iq1 5\n",
      "iq2 5\n",
      "iq3 5\n",
      "iq4 5\n",
      "iq5 5\n",
      "iq6 5\n",
      "bq1 20\n",
      "bq2 6\n",
      "bq3 6\n",
      "bq4 2\n",
      "bq4_1a 1536\n",
      "bq4_1b 738\n",
      "bq4_1c 318\n",
      "bq5 2\n",
      "bq5_1 7\n",
      "bq5_2 3860\n",
      "bq6 7\n",
      "bq7 7\n",
      "bq8_1 5\n",
      "bq8_2 5\n",
      "bq8_3 5\n",
      "bq9 5\n",
      "bq10 5\n",
      "bq11 5\n",
      "bq12_1 5\n",
      "bq12_2 6\n",
      "bq12_3 6\n",
      "bq12_4 6\n",
      "bq12_5 5\n",
      "bq13 3\n",
      "bq14 2\n",
      "bq15 4\n",
      "bq16 2\n",
      "bq17 3\n",
      "bq18 3\n",
      "bq19 3\n",
      "bq20 5\n",
      "bq21 49\n",
      "bq221 4\n",
      "bq222 4\n",
      "bq223 2\n",
      "bq231 6\n",
      "bq232 4\n",
      "bq233 3\n",
      "bq234 2\n",
      "bq235 2\n",
      "bq241 6\n",
      "bq242 2\n",
      "bq243 2\n",
      "bq244 2\n",
      "bq245 2\n",
      "bq25 3\n",
      "bq25_1 3\n",
      "bq26_1 3\n",
      "bq26_1a 4\n",
      "bq26_2 3\n",
      "bq26_2a 4\n",
      "bq26_3 3\n",
      "bq26_3a 4\n",
      "bq26_4 3\n",
      "bq26_4a 4\n",
      "bq27 2\n",
      "bq28 5\n",
      "bq28_1 7624\n",
      "bq29 1684\n",
      "bq30 5810\n",
      "bq31 1822\n",
      "bq32 2307\n",
      "bq33 685\n",
      "bq34 5\n",
      "bq35 2\n",
      "bq36 65\n",
      "bq37 6\n",
      "bq37_1 1867\n",
      "bq38 2\n",
      "bq38_1 5\n",
      "bq38_2 4\n",
      "bq39 3\n",
      "bq40 74\n",
      "bq41_1 258\n",
      "bq41_2 174\n",
      "bq41_3 102\n"
     ]
    }
   ],
   "source": [
    "for i in test_2018.columns : \n",
    "    print(i, len(test_2018[i].value_counts()))"
   ]
  },
  {
   "cell_type": "code",
   "execution_count": 47,
   "id": "2b2bcf73",
   "metadata": {},
   "outputs": [
    {
     "data": {
      "text/plain": [
       "1    6620\n",
       "     1331\n",
       "2    1118\n",
       "Name: bq39, dtype: int64"
      ]
     },
     "execution_count": 47,
     "metadata": {},
     "output_type": "execute_result"
    }
   ],
   "source": [
    "test_2018.bq39.value_counts()"
   ]
  },
  {
   "cell_type": "markdown",
   "id": "278535dd",
   "metadata": {},
   "source": [
    "1. 결측치\n",
    "\n",
    "- 주관식 \n",
    "bq31        1\n",
    "\n",
    "- 처리해야하는 col\n",
    "bq41_3     32\n",
    "\n",
    "2. 이상치 \n",
    "\n",
    "3. 주관식\n",
    "\n",
    "- 자격증\n",
    "bq4_1a 1536\n",
    "bq4_1b 738\n",
    "bq4_1c 318\n",
    "\n",
    "\n",
    "- 버림\n",
    "bq5_2 3860\n",
    "\n",
    "bq28_1 7624\n",
    "bq29 1684\n",
    "bq30 5810\n",
    "bq31 1822\n",
    "bq32 2307\n",
    "bq33 685\n",
    "\n",
    "- 학과 \n",
    "bq37_1 1867\n",
    "\n",
    "4. 숫자여야하는 col\n",
    "bq21 49\n",
    "bq36 65\n",
    "bq40 74\n",
    "bq41_1 258\n",
    "bq41_2 174\n",
    "bq41_3 102\n",
    "\n",
    "5. 체크해봐야하는 col\n",
    "\n",
    "bq221 4\n",
    "bq222 4\n",
    "bq223 2\n",
    "bq231 6\n",
    "bq232 4\n",
    "bq233 3\n",
    "bq234 2\n",
    "bq235 2\n",
    "bq241 6\n",
    "bq242 2\n",
    "bq243 2\n",
    "bq244 2\n",
    "bq245 2"
   ]
  },
  {
   "cell_type": "markdown",
   "id": "ab23e7c3",
   "metadata": {},
   "source": [
    "## 이상치 처리"
   ]
  },
  {
   "cell_type": "code",
   "execution_count": 48,
   "id": "b47b318c",
   "metadata": {},
   "outputs": [],
   "source": [
    "for col in test_2018:\n",
    "        test_2018[col].replace(' ', 0, inplace = True)"
   ]
  },
  {
   "cell_type": "code",
   "execution_count": 49,
   "id": "0e8bff02",
   "metadata": {},
   "outputs": [],
   "source": [
    "str_li =['bq4_1a','bq4_1b','bq4_1c','bq5_2','bq28_1','bq29','bq30','bq31', 'bq32','bq33','bq37_1']\n"
   ]
  },
  {
   "cell_type": "code",
   "execution_count": 50,
   "id": "79433e90",
   "metadata": {},
   "outputs": [],
   "source": [
    "test_2018 = test_2018.fillna(0)"
   ]
  },
  {
   "cell_type": "code",
   "execution_count": 51,
   "id": "560ad8c7",
   "metadata": {},
   "outputs": [
    {
     "data": {
      "text/plain": [
       "bq232      0\n",
       "bq233      0\n",
       "bq234      0\n",
       "bq235      0\n",
       "bq241      0\n",
       "bq242      0\n",
       "bq243      0\n",
       "bq244      0\n",
       "bq245      0\n",
       "bq25       0\n",
       "bq25_1     0\n",
       "bq26_1     0\n",
       "bq26_1a    0\n",
       "bq26_2     0\n",
       "bq26_2a    0\n",
       "bq26_3     0\n",
       "bq26_3a    0\n",
       "bq26_4     0\n",
       "bq26_4a    0\n",
       "bq27       0\n",
       "bq28       0\n",
       "bq28_1     0\n",
       "bq29       0\n",
       "bq30       0\n",
       "bq31       0\n",
       "bq32       0\n",
       "bq33       0\n",
       "bq34       0\n",
       "bq35       0\n",
       "bq36       0\n",
       "bq37       0\n",
       "bq37_1     0\n",
       "bq38       0\n",
       "bq38_1     0\n",
       "bq38_2     0\n",
       "bq39       0\n",
       "bq40       0\n",
       "bq41_1     0\n",
       "bq41_2     0\n",
       "bq41_3     0\n",
       "dtype: int64"
      ]
     },
     "execution_count": 51,
     "metadata": {},
     "output_type": "execute_result"
    }
   ],
   "source": [
    "test_2018.isnull().sum()[100:]"
   ]
  },
  {
   "cell_type": "code",
   "execution_count": 52,
   "id": "d833652f",
   "metadata": {},
   "outputs": [],
   "source": [
    "for i in test_2018.columns : \n",
    "    if i not in str_li : \n",
    "        test_2018[i] = test_2018[i].astype(int)\n",
    "    else :\n",
    "        test_2018[i]=test_2018[i].astype(str)\n"
   ]
  },
  {
   "cell_type": "code",
   "execution_count": 53,
   "id": "941cb6d7",
   "metadata": {},
   "outputs": [
    {
     "name": "stdout",
     "output_type": "stream",
     "text": [
      "<class 'pandas.core.frame.DataFrame'>\n",
      "RangeIndex: 9069 entries, 0 to 9068\n",
      "Data columns (total 140 columns):\n",
      " #    Column   Dtype \n",
      "---   ------   ----- \n",
      " 0    idx      int32 \n",
      " 1    cq1      int32 \n",
      " 2    cq2      int32 \n",
      " 3    cq3      int32 \n",
      " 4    cq4      int32 \n",
      " 5    cq5      int32 \n",
      " 6    cq6      int32 \n",
      " 7    cq7      int32 \n",
      " 8    cq8      int32 \n",
      " 9    cq9      int32 \n",
      " 10   cq10     int32 \n",
      " 11   cq11     int32 \n",
      " 12   cq12     int32 \n",
      " 13   cq13     int32 \n",
      " 14   cq14     int32 \n",
      " 15   cq15     int32 \n",
      " 16   cq16     int32 \n",
      " 17   cq17     int32 \n",
      " 18   cq18     int32 \n",
      " 19   cq19     int32 \n",
      " 20   cq20     int32 \n",
      " 21   cq21     int32 \n",
      " 22   cq22     int32 \n",
      " 23   cq23     int32 \n",
      " 24   cq24     int32 \n",
      " 25   cq25     int32 \n",
      " 26   cq26     int32 \n",
      " 27   cq27     int32 \n",
      " 28   cq28     int32 \n",
      " 29   cq29     int32 \n",
      " 30   cq30     int32 \n",
      " 31   cq31     int32 \n",
      " 32   cq32     int32 \n",
      " 33   cq33     int32 \n",
      " 34   cq34     int32 \n",
      " 35   cq35     int32 \n",
      " 36   cq36     int32 \n",
      " 37   cq37     int32 \n",
      " 38   cq38     int32 \n",
      " 39   cq39     int32 \n",
      " 40   cq40     int32 \n",
      " 41   cq41     int32 \n",
      " 42   cq42     int32 \n",
      " 43   cq43     int32 \n",
      " 44   cq44     int32 \n",
      " 45   cq45     int32 \n",
      " 46   cq46     int32 \n",
      " 47   cq47     int32 \n",
      " 48   cq48     int32 \n",
      " 49   cq49     int32 \n",
      " 50   cq50_1   int32 \n",
      " 51   cq50_2   int32 \n",
      " 52   cq50_3   int32 \n",
      " 53   cq50_4   int32 \n",
      " 54   cq50_5   int32 \n",
      " 55   cq50_6   int32 \n",
      " 56   cq50_7   int32 \n",
      " 57   cq50_8   int32 \n",
      " 58   iq1      int32 \n",
      " 59   iq2      int32 \n",
      " 60   iq3      int32 \n",
      " 61   iq4      int32 \n",
      " 62   iq5      int32 \n",
      " 63   iq6      int32 \n",
      " 64   bq1      int32 \n",
      " 65   bq2      int32 \n",
      " 66   bq3      int32 \n",
      " 67   bq4      int32 \n",
      " 68   bq4_1a   object\n",
      " 69   bq4_1b   object\n",
      " 70   bq4_1c   object\n",
      " 71   bq5      int32 \n",
      " 72   bq5_1    int32 \n",
      " 73   bq5_2    object\n",
      " 74   bq6      int32 \n",
      " 75   bq7      int32 \n",
      " 76   bq8_1    int32 \n",
      " 77   bq8_2    int32 \n",
      " 78   bq8_3    int32 \n",
      " 79   bq9      int32 \n",
      " 80   bq10     int32 \n",
      " 81   bq11     int32 \n",
      " 82   bq12_1   int32 \n",
      " 83   bq12_2   int32 \n",
      " 84   bq12_3   int32 \n",
      " 85   bq12_4   int32 \n",
      " 86   bq12_5   int32 \n",
      " 87   bq13     int32 \n",
      " 88   bq14     int32 \n",
      " 89   bq15     int32 \n",
      " 90   bq16     int32 \n",
      " 91   bq17     int32 \n",
      " 92   bq18     int32 \n",
      " 93   bq19     int32 \n",
      " 94   bq20     int32 \n",
      " 95   bq21     int32 \n",
      " 96   bq221    int32 \n",
      " 97   bq222    int32 \n",
      " 98   bq223    int32 \n",
      " 99   bq231    int32 \n",
      " 100  bq232    int32 \n",
      " 101  bq233    int32 \n",
      " 102  bq234    int32 \n",
      " 103  bq235    int32 \n",
      " 104  bq241    int32 \n",
      " 105  bq242    int32 \n",
      " 106  bq243    int32 \n",
      " 107  bq244    int32 \n",
      " 108  bq245    int32 \n",
      " 109  bq25     int32 \n",
      " 110  bq25_1   int32 \n",
      " 111  bq26_1   int32 \n",
      " 112  bq26_1a  int32 \n",
      " 113  bq26_2   int32 \n",
      " 114  bq26_2a  int32 \n",
      " 115  bq26_3   int32 \n",
      " 116  bq26_3a  int32 \n",
      " 117  bq26_4   int32 \n",
      " 118  bq26_4a  int32 \n",
      " 119  bq27     int32 \n",
      " 120  bq28     int32 \n",
      " 121  bq28_1   object\n",
      " 122  bq29     object\n",
      " 123  bq30     object\n",
      " 124  bq31     object\n",
      " 125  bq32     object\n",
      " 126  bq33     object\n",
      " 127  bq34     int32 \n",
      " 128  bq35     int32 \n",
      " 129  bq36     int32 \n",
      " 130  bq37     int32 \n",
      " 131  bq37_1   object\n",
      " 132  bq38     int32 \n",
      " 133  bq38_1   int32 \n",
      " 134  bq38_2   int32 \n",
      " 135  bq39     int32 \n",
      " 136  bq40     int32 \n",
      " 137  bq41_1   int32 \n",
      " 138  bq41_2   int32 \n",
      " 139  bq41_3   int32 \n",
      "dtypes: int32(129), object(11)\n",
      "memory usage: 5.2+ MB\n"
     ]
    }
   ],
   "source": [
    "test_2018.info(verbose=True)"
   ]
  },
  {
   "cell_type": "code",
   "execution_count": 54,
   "id": "0bd35d12",
   "metadata": {},
   "outputs": [
    {
     "data": {
      "text/plain": [
       "컴퓨터공학    1\n",
       "Name: bq37_1, dtype: int64"
      ]
     },
     "execution_count": 54,
     "metadata": {},
     "output_type": "execute_result"
    }
   ],
   "source": [
    "# bq37=1(중졸)인 사람중 학과 입력한 사람 -> '0'으로 처리 \n",
    "test_2018[(test_2018.bq37==1) & (test_2018.bq37_1!='0')]['bq37_1'].value_counts()"
   ]
  },
  {
   "cell_type": "code",
   "execution_count": 55,
   "id": "3ba10596",
   "metadata": {},
   "outputs": [
    {
     "data": {
      "text/plain": [
       "Int64Index([2686], dtype='int64')"
      ]
     },
     "execution_count": 55,
     "metadata": {},
     "output_type": "execute_result"
    }
   ],
   "source": [
    "test_2018[(test_2018.bq37==1) & (test_2018.bq37_1!='0')].index"
   ]
  },
  {
   "cell_type": "code",
   "execution_count": 56,
   "id": "b09010bd",
   "metadata": {},
   "outputs": [],
   "source": [
    "# 학과 입력했기 때문에 최종학력이 고졸이상으로 추정됨\n",
    "# 수기입력의 오류라고 생각되어 문제지에서 1과 가까운 3으로 대체 \n",
    "\n",
    "test_2018.iloc[2686,130]=3"
   ]
  },
  {
   "cell_type": "code",
   "execution_count": 57,
   "id": "792789aa",
   "metadata": {},
   "outputs": [
    {
     "data": {
      "text/plain": [
       "Int64Index([], dtype='int64')"
      ]
     },
     "execution_count": 57,
     "metadata": {},
     "output_type": "execute_result"
    }
   ],
   "source": [
    "test_2018[(test_2018.bq37==1) & (test_2018.bq37_1!='0')].index"
   ]
  },
  {
   "cell_type": "code",
   "execution_count": 58,
   "id": "50803fa3",
   "metadata": {},
   "outputs": [
    {
     "data": {
      "text/plain": [
       "2    110\n",
       "4     24\n",
       "3     11\n",
       "5      5\n",
       "Name: bq37, dtype: int64"
      ]
     },
     "execution_count": 58,
     "metadata": {},
     "output_type": "execute_result"
    }
   ],
   "source": [
    "# 고졸 이상중 학과 입력안한 사람 \n",
    "# 앞에서 주관식 항목의 빈값(결측치)를 '0'으로 처리했기 때문에 '0'으로 찾아야함\n",
    "# 결측치 '0'으로 처리\n",
    "test_2018[(test_2018.bq37.isin([2,3,4,5,6])) & (test_2018.bq37_1=='0')]['bq37'].value_counts()"
   ]
  },
  {
   "cell_type": "code",
   "execution_count": 59,
   "id": "fadf6658",
   "metadata": {},
   "outputs": [
    {
     "data": {
      "text/plain": [
       "Int64Index([], dtype='int64')"
      ]
     },
     "execution_count": 59,
     "metadata": {},
     "output_type": "execute_result"
    }
   ],
   "source": [
    "# 근로시간\n",
    "# 결측치 없음\n",
    "test_2018[test_2018.bq40==0].index"
   ]
  },
  {
   "cell_type": "code",
   "execution_count": 60,
   "id": "e01e1ce8",
   "metadata": {},
   "outputs": [],
   "source": [
    "## 근로소득 처리 \n",
    "# test 결측치를 train의 업종의 중위값으로 대체 "
   ]
  },
  {
   "cell_type": "code",
   "execution_count": 61,
   "id": "1aaaf11e",
   "metadata": {},
   "outputs": [
    {
     "data": {
      "text/plain": [
       "Int64Index([962, 1524, 1799, 2708, 3070, 7609, 8070], dtype='int64')"
      ]
     },
     "execution_count": 61,
     "metadata": {},
     "output_type": "execute_result"
    }
   ],
   "source": [
    "# 임금근로자\n",
    "\n",
    "null_li = test_2018[(test_2018.bq38==1) & (test_2018.bq41_1==0)].index\n",
    "null_li"
   ]
  },
  {
   "cell_type": "code",
   "execution_count": 62,
   "id": "43412eeb",
   "metadata": {},
   "outputs": [],
   "source": [
    "for i in null_li:     \n",
    "    test_2018.iloc[i,137]=round(train_2018[(train_2018.bq1 ==test_2018.iloc[i,64])&(train_2018.bq41_1!=0)].bq41_1.median())"
   ]
  },
  {
   "cell_type": "code",
   "execution_count": 63,
   "id": "7f9a0e08",
   "metadata": {},
   "outputs": [
    {
     "data": {
      "text/plain": [
       "Int64Index([], dtype='int64')"
      ]
     },
     "execution_count": 63,
     "metadata": {},
     "output_type": "execute_result"
    }
   ],
   "source": [
    "null_li = test_2018[(test_2018.bq38==1) & (test_2018.bq41_1==0)].index\n",
    "null_li"
   ]
  },
  {
   "cell_type": "code",
   "execution_count": 64,
   "id": "66ab0ce8",
   "metadata": {},
   "outputs": [
    {
     "data": {
      "text/plain": [
       "Int64Index([  59,  141,  152,  331,  720,  783,  808,  860,  962,  966, 1157,\n",
       "            1367, 1397, 1524, 1578, 1648, 1744, 1799, 1835, 1922, 2027, 2070,\n",
       "            2073, 2234, 2440, 2478, 2708, 2917, 3070, 3099, 3169, 3291, 3302,\n",
       "            3524, 3758, 3772, 3944, 4002, 4101, 4112, 4122, 4143, 4171, 4305,\n",
       "            4418, 4498, 4686, 4689, 4786, 4864, 4897, 4971, 4999, 5070, 5078,\n",
       "            5252, 5270, 5318, 5505, 5572, 5849, 5931, 6177, 6451, 6460, 6476,\n",
       "            6605, 6607, 7011, 7128, 7236, 7299, 7351, 7362, 7609, 7656, 7670,\n",
       "            7740, 7967, 7984, 8064, 8070, 8231, 8323, 8478, 8479, 8482, 8607,\n",
       "            8714, 8722, 8760, 8780, 8820, 8929, 8932, 8995, 9030],\n",
       "           dtype='int64')"
      ]
     },
     "execution_count": 64,
     "metadata": {},
     "output_type": "execute_result"
    }
   ],
   "source": [
    "# 임금근로자 초봉\n",
    "null_li2 = test_2018[(test_2018.bq38==1) & (test_2018.bq41_2==0)].index\n",
    "null_li2"
   ]
  },
  {
   "cell_type": "code",
   "execution_count": 65,
   "id": "6f167b80",
   "metadata": {},
   "outputs": [],
   "source": [
    "for i in null_li2:     \n",
    "    test_2018.iloc[i,138]=round(train_2018[(train_2018.bq1 ==test_2018.iloc[i,64])&(train_2018.bq41_2!=0)].bq41_2.median())"
   ]
  },
  {
   "cell_type": "code",
   "execution_count": 66,
   "id": "b1a1a762",
   "metadata": {},
   "outputs": [
    {
     "data": {
      "text/plain": [
       "Int64Index([], dtype='int64')"
      ]
     },
     "execution_count": 66,
     "metadata": {},
     "output_type": "execute_result"
    }
   ],
   "source": [
    "null_li2 = test_2018[(test_2018.bq38==1) & (test_2018.bq41_2==0)].index\n",
    "null_li2"
   ]
  },
  {
   "cell_type": "code",
   "execution_count": 67,
   "id": "f695c8a5",
   "metadata": {},
   "outputs": [
    {
     "data": {
      "text/plain": [
       "Int64Index([  34,  661, 1751, 1875, 2193, 2488, 2688, 4403, 4516, 4558, 4768,\n",
       "            4914, 4936, 4943, 4947, 5487, 6840, 6925, 7995, 8349, 8428, 8623,\n",
       "            8922],\n",
       "           dtype='int64')"
      ]
     },
     "execution_count": 67,
     "metadata": {},
     "output_type": "execute_result"
    }
   ],
   "source": [
    "# 비임금근로자 근로소득\n",
    "\n",
    "null_li3 = test_2018[(test_2018.bq38==2) & (test_2018.bq41_3==0)].index\n",
    "null_li3"
   ]
  },
  {
   "cell_type": "code",
   "execution_count": 68,
   "id": "8e948e84",
   "metadata": {},
   "outputs": [],
   "source": [
    "for i in null_li3:     \n",
    "    test_2018.iloc[i,139]=round(train_2018[(train_2018.bq1 ==test_2018.iloc[i,64])&(train_2018.bq41_3!=0)].bq41_3.median())"
   ]
  },
  {
   "cell_type": "code",
   "execution_count": 69,
   "id": "974c3bbd",
   "metadata": {},
   "outputs": [
    {
     "data": {
      "text/plain": [
       "Int64Index([], dtype='int64')"
      ]
     },
     "execution_count": 69,
     "metadata": {},
     "output_type": "execute_result"
    }
   ],
   "source": [
    "null_li3 = test_2018[(test_2018.bq38==2) & (test_2018.bq41_3==0)].index\n",
    "null_li3"
   ]
  },
  {
   "cell_type": "code",
   "execution_count": null,
   "id": "b6a9dc95",
   "metadata": {},
   "outputs": [],
   "source": [
    "# 18년 자격증 주관식에는 .값을 '0'으로 처리 "
   ]
  },
  {
   "cell_type": "code",
   "execution_count": 70,
   "id": "5ad89ce0",
   "metadata": {},
   "outputs": [
    {
     "name": "stdout",
     "output_type": "stream",
     "text": [
      ".\n"
     ]
    }
   ],
   "source": [
    "## 자격증 없음 \n",
    "\n",
    "for i in test_2018.bq4_1b:\n",
    "    if '.' in i : \n",
    "        print(i)\n",
    "\n",
    "test_2018['bq4_1b'].replace('.', '0', inplace = True)"
   ]
  },
  {
   "cell_type": "code",
   "execution_count": 71,
   "id": "7004b668",
   "metadata": {},
   "outputs": [],
   "source": [
    "for i in test_2018.bq4_1b:\n",
    "    if '.' in i : \n",
    "        print(i)"
   ]
  },
  {
   "cell_type": "code",
   "execution_count": 72,
   "id": "6dd3bf01",
   "metadata": {},
   "outputs": [
    {
     "name": "stdout",
     "output_type": "stream",
     "text": [
      ".\n",
      "간접투자.증권투자자격증\n"
     ]
    }
   ],
   "source": [
    "\n",
    "\n",
    "for i in test_2018.bq4_1c:\n",
    "    if '.' in i : \n",
    "        print(i)\n",
    "\n",
    "test_2018['bq4_1c'].replace('.', '0', inplace = True)"
   ]
  },
  {
   "cell_type": "code",
   "execution_count": 73,
   "id": "f6ba39bc",
   "metadata": {},
   "outputs": [
    {
     "name": "stdout",
     "output_type": "stream",
     "text": [
      "간접투자.증권투자자격증\n"
     ]
    }
   ],
   "source": [
    "for i in test_2018.bq4_1c:\n",
    "    if '.' in i : \n",
    "        print(i)"
   ]
  },
  {
   "cell_type": "code",
   "execution_count": 74,
   "id": "1e675910",
   "metadata": {},
   "outputs": [],
   "source": [
    "test_2018.to_csv(\"know_2018_test_enutf.csv\", encoding='utf8', index=False)\n",
    "test_2018.to_csv(\"know_2018_test_encp.csv\", encoding='cp949', index=False)"
   ]
  },
  {
   "cell_type": "code",
   "execution_count": null,
   "id": "549cc7f9",
   "metadata": {},
   "outputs": [],
   "source": []
  }
 ],
 "metadata": {
  "kernelspec": {
   "display_name": "Python 3 (ipykernel)",
   "language": "python",
   "name": "python3"
  },
  "language_info": {
   "codemirror_mode": {
    "name": "ipython",
    "version": 3
   },
   "file_extension": ".py",
   "mimetype": "text/x-python",
   "name": "python",
   "nbconvert_exporter": "python",
   "pygments_lexer": "ipython3",
   "version": "3.9.7"
  }
 },
 "nbformat": 4,
 "nbformat_minor": 5
}
