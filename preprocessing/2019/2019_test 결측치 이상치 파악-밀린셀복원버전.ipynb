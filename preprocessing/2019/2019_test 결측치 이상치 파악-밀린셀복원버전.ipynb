{
 "cells": [
  {
   "cell_type": "code",
   "execution_count": 22,
   "id": "ec16560f",
   "metadata": {},
   "outputs": [],
   "source": [
    "import pandas as pd"
   ]
  },
  {
   "cell_type": "code",
   "execution_count": 23,
   "id": "d4ceb79c",
   "metadata": {},
   "outputs": [],
   "source": [
    "test_2019 = pd.read_csv('../know_Data/test/KNOW_2019_test(2) - 복원.csv')"
   ]
  },
  {
   "cell_type": "code",
   "execution_count": 24,
   "id": "283017cf",
   "metadata": {},
   "outputs": [],
   "source": [
    "train_2019 = pd.read_csv('know_2019_enutf.csv')"
   ]
  },
  {
   "cell_type": "code",
   "execution_count": 25,
   "id": "95f7c4c1",
   "metadata": {
    "scrolled": false
   },
   "outputs": [
    {
     "name": "stdout",
     "output_type": "stream",
     "text": [
      "<class 'pandas.core.frame.DataFrame'>\n",
      "RangeIndex: 8554 entries, 0 to 8553\n",
      "Data columns (total 152 columns):\n",
      " #    Column   Dtype \n",
      "---   ------   ----- \n",
      " 0    idx      int64 \n",
      " 1    sq1      int64 \n",
      " 2    sq2      int64 \n",
      " 3    sq3      int64 \n",
      " 4    sq4      int64 \n",
      " 5    sq5      int64 \n",
      " 6    sq6      int64 \n",
      " 7    sq7      int64 \n",
      " 8    sq8      int64 \n",
      " 9    sq9      int64 \n",
      " 10   sq10     int64 \n",
      " 11   sq11     int64 \n",
      " 12   sq12     int64 \n",
      " 13   sq13     int64 \n",
      " 14   sq14     int64 \n",
      " 15   sq15     int64 \n",
      " 16   sq16     int64 \n",
      " 17   kq1_1    int64 \n",
      " 18   kq1_2    int64 \n",
      " 19   kq2_1    int64 \n",
      " 20   kq2_2    int64 \n",
      " 21   kq3_1    int64 \n",
      " 22   kq3_2    int64 \n",
      " 23   kq4_1    int64 \n",
      " 24   kq4_2    int64 \n",
      " 25   kq5_1    int64 \n",
      " 26   kq5_2    int64 \n",
      " 27   kq6_1    int64 \n",
      " 28   kq6_2    int64 \n",
      " 29   kq7_1    int64 \n",
      " 30   kq7_2    int64 \n",
      " 31   kq8_1    int64 \n",
      " 32   kq8_2    int64 \n",
      " 33   kq9_1    int64 \n",
      " 34   kq9_2    int64 \n",
      " 35   kq10_1   int64 \n",
      " 36   kq10_2   int64 \n",
      " 37   kq11_1   int64 \n",
      " 38   kq11_2   int64 \n",
      " 39   kq12_1   int64 \n",
      " 40   kq12_2   int64 \n",
      " 41   kq13_1   int64 \n",
      " 42   kq13_2   int64 \n",
      " 43   kq14_1   int64 \n",
      " 44   kq14_2   int64 \n",
      " 45   kq15_1   int64 \n",
      " 46   kq15_2   int64 \n",
      " 47   kq16_1   int64 \n",
      " 48   kq16_2   int64 \n",
      " 49   kq17_1   int64 \n",
      " 50   kq17_2   int64 \n",
      " 51   kq18_1   int64 \n",
      " 52   kq18_2   int64 \n",
      " 53   kq19_1   int64 \n",
      " 54   kq19_2   int64 \n",
      " 55   kq20_1   int64 \n",
      " 56   kq20_2   int64 \n",
      " 57   kq21_1   int64 \n",
      " 58   kq21_2   int64 \n",
      " 59   kq22_1   int64 \n",
      " 60   kq22_2   int64 \n",
      " 61   kq23_1   int64 \n",
      " 62   kq23_2   int64 \n",
      " 63   kq24_1   int64 \n",
      " 64   kq24_2   int64 \n",
      " 65   kq25_1   int64 \n",
      " 66   kq25_2   int64 \n",
      " 67   kq26_1   int64 \n",
      " 68   kq26_2   int64 \n",
      " 69   kq27_1   int64 \n",
      " 70   kq27_2   int64 \n",
      " 71   kq28_1   int64 \n",
      " 72   kq28_2   int64 \n",
      " 73   kq29_1   int64 \n",
      " 74   kq29_2   int64 \n",
      " 75   kq30_1   int64 \n",
      " 76   kq30_2   int64 \n",
      " 77   kq31_1   int64 \n",
      " 78   kq31_2   int64 \n",
      " 79   kq32_1   int64 \n",
      " 80   kq32_2   int64 \n",
      " 81   kq33_1   int64 \n",
      " 82   kq33_2   int64 \n",
      " 83   bq1      int64 \n",
      " 84   bq2      int64 \n",
      " 85   bq3      int64 \n",
      " 86   bq4      int64 \n",
      " 87   bq4_1a   object\n",
      " 88   bq4_1b   object\n",
      " 89   bq4_1c   object\n",
      " 90   bq5      int64 \n",
      " 91   bq5_1    object\n",
      " 92   bq5_2    object\n",
      " 93   bq6      int64 \n",
      " 94   bq7      int64 \n",
      " 95   bq8_1    int64 \n",
      " 96   bq8_2    int64 \n",
      " 97   bq8_3    int64 \n",
      " 98   bq9      int64 \n",
      " 99   bq10     int64 \n",
      " 100  bq11     int64 \n",
      " 101  bq12_1   int64 \n",
      " 102  bq12_2   int64 \n",
      " 103  bq12_3   int64 \n",
      " 104  bq12_4   int64 \n",
      " 105  bq12_5   int64 \n",
      " 106  bq13_1   int64 \n",
      " 107  bq13_2   int64 \n",
      " 108  bq13_3   int64 \n",
      " 109  bq14_1   int64 \n",
      " 110  bq14_2   int64 \n",
      " 111  bq14_3   int64 \n",
      " 112  bq14_4   int64 \n",
      " 113  bq14_5   int64 \n",
      " 114  bq15     int64 \n",
      " 115  bq16_1   int64 \n",
      " 116  bq16_2   int64 \n",
      " 117  bq16_3   int64 \n",
      " 118  bq16_4   int64 \n",
      " 119  bq16_5   int64 \n",
      " 120  bq17     int64 \n",
      " 121  bq18_1   int64 \n",
      " 122  bq18_2   int64 \n",
      " 123  bq18_3   int64 \n",
      " 124  bq18_4   int64 \n",
      " 125  bq18_5   int64 \n",
      " 126  bq18_6   int64 \n",
      " 127  bq18_7   int64 \n",
      " 128  bq18_8   int64 \n",
      " 129  bq18_9   int64 \n",
      " 130  bq18_10  object\n",
      " 131  bq19     int64 \n",
      " 132  bq20     int64 \n",
      " 133  bq20_1   object\n",
      " 134  bq21_1   int64 \n",
      " 135  bq21_2   int64 \n",
      " 136  bq21_3   int64 \n",
      " 137  bq22     object\n",
      " 138  bq23     object\n",
      " 139  bq24     object\n",
      " 140  bq25     int64 \n",
      " 141  bq26     int64 \n",
      " 142  bq27     int64 \n",
      " 143  bq27_1   object\n",
      " 144  bq28     int64 \n",
      " 145  bq28_1   object\n",
      " 146  bq28_2   object\n",
      " 147  bq29     object\n",
      " 148  bq30     object\n",
      " 149  bq31_1   object\n",
      " 150  bq31_2   object\n",
      " 151  bq31_3   object\n",
      "dtypes: int64(134), object(18)\n",
      "memory usage: 9.9+ MB\n"
     ]
    }
   ],
   "source": [
    "test_2019.info(verbose=1)"
   ]
  },
  {
   "cell_type": "code",
   "execution_count": 26,
   "id": "a7015d58",
   "metadata": {},
   "outputs": [
    {
     "data": {
      "text/plain": [
       "idx       0\n",
       "sq1       0\n",
       "sq2       0\n",
       "sq3       0\n",
       "sq4       0\n",
       "sq5       0\n",
       "sq6       0\n",
       "sq7       0\n",
       "sq8       0\n",
       "sq9       0\n",
       "sq10      0\n",
       "sq11      0\n",
       "sq12      0\n",
       "sq13      0\n",
       "sq14      0\n",
       "sq15      0\n",
       "sq16      0\n",
       "kq1_1     0\n",
       "kq1_2     0\n",
       "kq2_1     0\n",
       "kq2_2     0\n",
       "kq3_1     0\n",
       "kq3_2     0\n",
       "kq4_1     0\n",
       "kq4_2     0\n",
       "kq5_1     0\n",
       "kq5_2     0\n",
       "kq6_1     0\n",
       "kq6_2     0\n",
       "kq7_1     0\n",
       "kq7_2     0\n",
       "kq8_1     0\n",
       "kq8_2     0\n",
       "kq9_1     0\n",
       "kq9_2     0\n",
       "kq10_1    0\n",
       "kq10_2    0\n",
       "kq11_1    0\n",
       "kq11_2    0\n",
       "kq12_1    0\n",
       "kq12_2    0\n",
       "kq13_1    0\n",
       "kq13_2    0\n",
       "kq14_1    0\n",
       "kq14_2    0\n",
       "kq15_1    0\n",
       "kq15_2    0\n",
       "kq16_1    0\n",
       "kq16_2    0\n",
       "kq17_1    0\n",
       "dtype: int64"
      ]
     },
     "execution_count": 26,
     "metadata": {},
     "output_type": "execute_result"
    }
   ],
   "source": [
    "test_2019.isnull().sum()[:50]"
   ]
  },
  {
   "cell_type": "code",
   "execution_count": 27,
   "id": "1ce1ecb0",
   "metadata": {},
   "outputs": [
    {
     "data": {
      "text/plain": [
       "kq17_2    0\n",
       "kq18_1    0\n",
       "kq18_2    0\n",
       "kq19_1    0\n",
       "kq19_2    0\n",
       "kq20_1    0\n",
       "kq20_2    0\n",
       "kq21_1    0\n",
       "kq21_2    0\n",
       "kq22_1    0\n",
       "kq22_2    0\n",
       "kq23_1    0\n",
       "kq23_2    0\n",
       "kq24_1    0\n",
       "kq24_2    0\n",
       "kq25_1    0\n",
       "kq25_2    0\n",
       "kq26_1    0\n",
       "kq26_2    0\n",
       "kq27_1    0\n",
       "kq27_2    0\n",
       "kq28_1    0\n",
       "kq28_2    0\n",
       "kq29_1    0\n",
       "kq29_2    0\n",
       "kq30_1    0\n",
       "kq30_2    0\n",
       "kq31_1    0\n",
       "kq31_2    0\n",
       "kq32_1    0\n",
       "kq32_2    0\n",
       "kq33_1    0\n",
       "kq33_2    0\n",
       "bq1       0\n",
       "bq2       0\n",
       "bq3       0\n",
       "bq4       0\n",
       "bq4_1a    0\n",
       "bq4_1b    0\n",
       "bq4_1c    0\n",
       "bq5       0\n",
       "bq5_1     0\n",
       "bq5_2     0\n",
       "bq6       0\n",
       "bq7       0\n",
       "bq8_1     0\n",
       "bq8_2     0\n",
       "bq8_3     0\n",
       "bq9       0\n",
       "bq10      0\n",
       "dtype: int64"
      ]
     },
     "execution_count": 27,
     "metadata": {},
     "output_type": "execute_result"
    }
   ],
   "source": [
    "test_2019.isnull().sum()[50:100]"
   ]
  },
  {
   "cell_type": "code",
   "execution_count": 28,
   "id": "77779c75",
   "metadata": {
    "scrolled": false
   },
   "outputs": [
    {
     "data": {
      "text/plain": [
       "bq11       0\n",
       "bq12_1     0\n",
       "bq12_2     0\n",
       "bq12_3     0\n",
       "bq12_4     0\n",
       "bq12_5     0\n",
       "bq13_1     0\n",
       "bq13_2     0\n",
       "bq13_3     0\n",
       "bq14_1     0\n",
       "bq14_2     0\n",
       "bq14_3     0\n",
       "bq14_4     0\n",
       "bq14_5     0\n",
       "bq15       0\n",
       "bq16_1     0\n",
       "bq16_2     0\n",
       "bq16_3     0\n",
       "bq16_4     0\n",
       "bq16_5     0\n",
       "bq17       0\n",
       "bq18_1     0\n",
       "bq18_2     0\n",
       "bq18_3     0\n",
       "bq18_4     0\n",
       "bq18_5     0\n",
       "bq18_6     0\n",
       "bq18_7     0\n",
       "bq18_8     0\n",
       "bq18_9     0\n",
       "bq18_10    0\n",
       "bq19       0\n",
       "bq20       0\n",
       "bq20_1     0\n",
       "bq21_1     0\n",
       "bq21_2     0\n",
       "bq21_3     0\n",
       "bq22       1\n",
       "bq23       0\n",
       "bq24       2\n",
       "bq25       0\n",
       "bq26       0\n",
       "bq27       0\n",
       "bq27_1     0\n",
       "bq28       0\n",
       "bq28_1     0\n",
       "bq28_2     0\n",
       "bq29       0\n",
       "bq30       0\n",
       "bq31_1     0\n",
       "bq31_2     0\n",
       "bq31_3     2\n",
       "dtype: int64"
      ]
     },
     "execution_count": 28,
     "metadata": {},
     "output_type": "execute_result"
    }
   ],
   "source": [
    "test_2019.isnull().sum()[100:]"
   ]
  },
  {
   "cell_type": "code",
   "execution_count": 29,
   "id": "6f9a106d",
   "metadata": {
    "scrolled": false
   },
   "outputs": [
    {
     "name": "stdout",
     "output_type": "stream",
     "text": [
      "idx 8554\n",
      "sq1 5\n",
      "sq2 5\n",
      "sq3 5\n",
      "sq4 5\n",
      "sq5 5\n",
      "sq6 5\n",
      "sq7 5\n",
      "sq8 5\n",
      "sq9 5\n",
      "sq10 5\n",
      "sq11 5\n",
      "sq12 5\n",
      "sq13 5\n",
      "sq14 5\n",
      "sq15 5\n",
      "sq16 5\n",
      "kq1_1 5\n",
      "kq1_2 8\n",
      "kq2_1 5\n",
      "kq2_2 8\n",
      "kq3_1 5\n",
      "kq3_2 8\n",
      "kq4_1 5\n",
      "kq4_2 8\n",
      "kq5_1 5\n",
      "kq5_2 8\n",
      "kq6_1 5\n",
      "kq6_2 8\n",
      "kq7_1 5\n",
      "kq7_2 8\n",
      "kq8_1 5\n",
      "kq8_2 8\n",
      "kq9_1 5\n",
      "kq9_2 8\n",
      "kq10_1 5\n",
      "kq10_2 8\n",
      "kq11_1 5\n",
      "kq11_2 8\n",
      "kq12_1 5\n",
      "kq12_2 8\n",
      "kq13_1 5\n",
      "kq13_2 8\n",
      "kq14_1 5\n",
      "kq14_2 8\n",
      "kq15_1 5\n",
      "kq15_2 8\n",
      "kq16_1 5\n",
      "kq16_2 8\n",
      "kq17_1 5\n",
      "kq17_2 8\n",
      "kq18_1 5\n",
      "kq18_2 8\n",
      "kq19_1 5\n",
      "kq19_2 8\n",
      "kq20_1 5\n",
      "kq20_2 8\n",
      "kq21_1 5\n",
      "kq21_2 8\n",
      "kq22_1 5\n",
      "kq22_2 8\n",
      "kq23_1 5\n",
      "kq23_2 8\n",
      "kq24_1 5\n",
      "kq24_2 8\n",
      "kq25_1 5\n",
      "kq25_2 8\n",
      "kq26_1 5\n",
      "kq26_2 8\n",
      "kq27_1 5\n",
      "kq27_2 8\n",
      "kq28_1 5\n",
      "kq28_2 8\n",
      "kq29_1 5\n",
      "kq29_2 8\n",
      "kq30_1 5\n",
      "kq30_2 8\n",
      "kq31_1 5\n",
      "kq31_2 8\n",
      "kq32_1 5\n",
      "kq32_2 8\n",
      "kq33_1 5\n",
      "kq33_2 8\n",
      "bq1 21\n",
      "bq2 6\n",
      "bq3 6\n",
      "bq4 2\n",
      "bq4_1a 1559\n",
      "bq4_1b 710\n",
      "bq4_1c 265\n",
      "bq5 2\n",
      "bq5_1 7\n",
      "bq5_2 3263\n",
      "bq6 7\n",
      "bq7 7\n",
      "bq8_1 5\n",
      "bq8_2 5\n",
      "bq8_3 5\n",
      "bq9 5\n",
      "bq10 5\n",
      "bq11 5\n",
      "bq12_1 5\n",
      "bq12_2 6\n",
      "bq12_3 6\n",
      "bq12_4 6\n",
      "bq12_5 5\n",
      "bq13_1 5\n",
      "bq13_2 5\n",
      "bq13_3 5\n",
      "bq14_1 6\n",
      "bq14_2 6\n",
      "bq14_3 6\n",
      "bq14_4 6\n",
      "bq14_5 6\n",
      "bq15 5\n",
      "bq16_1 5\n",
      "bq16_2 5\n",
      "bq16_3 5\n",
      "bq16_4 5\n",
      "bq16_5 5\n",
      "bq17 5\n",
      "bq18_1 2\n",
      "bq18_2 2\n",
      "bq18_3 2\n",
      "bq18_4 2\n",
      "bq18_5 2\n",
      "bq18_6 2\n",
      "bq18_7 2\n",
      "bq18_8 2\n",
      "bq18_9 2\n",
      "bq18_10 2588\n",
      "bq19 5\n",
      "bq20 5\n",
      "bq20_1 6355\n",
      "bq21_1 5\n",
      "bq21_2 5\n",
      "bq21_3 5\n",
      "bq22 1868\n",
      "bq23 1769\n",
      "bq24 635\n",
      "bq25 2\n",
      "bq26 65\n",
      "bq27 6\n",
      "bq27_1 1875\n",
      "bq28 2\n",
      "bq28_1 5\n",
      "bq28_2 4\n",
      "bq29 3\n",
      "bq30 70\n",
      "bq31_1 255\n",
      "bq31_2 165\n",
      "bq31_3 108\n"
     ]
    }
   ],
   "source": [
    "for i in test_2019.columns : \n",
    "    print(i, len(test_2019[i].value_counts()))"
   ]
  },
  {
   "cell_type": "code",
   "execution_count": 30,
   "id": "31c1d1a6",
   "metadata": {},
   "outputs": [
    {
     "data": {
      "text/plain": [
       "1    6184\n",
       "     1228\n",
       "2    1142\n",
       "Name: bq29, dtype: int64"
      ]
     },
     "execution_count": 30,
     "metadata": {},
     "output_type": "execute_result"
    }
   ],
   "source": [
    "test_2019.bq29.value_counts()"
   ]
  },
  {
   "cell_type": "markdown",
   "id": "cccc0397",
   "metadata": {},
   "source": [
    "1. 결측치\n",
    "\n",
    "- 주관식이라 버릴 항목\n",
    "bq22         1\n",
    "bq24       2\n",
    "\n",
    "- 처리해야하는 항목\n",
    "bq31_3   근로소득  2\n",
    "\n",
    "\n",
    "2. 이상치\n",
    "\n",
    "수작업으로 밀린 것 처리\n",
    "\n",
    "3. 주관식\n",
    "\n",
    "- 자격증\n",
    "bq4_1a 1559\n",
    "bq4_1b 710\n",
    "bq4_1c 265\n",
    "\n",
    "- 버림\n",
    "bq5_2 3263\n",
    "bq18_10 2588\n",
    "bq20_1 6355\n",
    "bq22 1868\n",
    "bq23 1769\n",
    "bq24 635\n",
    "\n",
    "- 학과\n",
    "bq27_1 1875\n",
    "\n",
    "4. 숫자여야하는 col\n",
    "bq26 65\n",
    "bq30 70\n",
    "bq31_1 255\n",
    "bq31_2 165\n",
    "bq31_3 108\n",
    "\n",
    "5. 체크해봐야할 col \n",
    "\n",
    "bq29 3 & bq28\n"
   ]
  },
  {
   "cell_type": "code",
   "execution_count": 31,
   "id": "2e3d98d1",
   "metadata": {},
   "outputs": [],
   "source": [
    "for col in test_2019:\n",
    "        test_2019[col].replace(' ', 0, inplace = True)"
   ]
  },
  {
   "cell_type": "code",
   "execution_count": 32,
   "id": "14f18d46",
   "metadata": {},
   "outputs": [],
   "source": [
    "# 주관식문항 \n",
    "\n",
    "str_li =['bq4_1a','bq4_1b','bq4_1c','bq5_2', 'bq18_10','bq20_1','bq22','bq23','bq24', 'bq27_1']"
   ]
  },
  {
   "cell_type": "code",
   "execution_count": 33,
   "id": "b6e7e69f",
   "metadata": {},
   "outputs": [],
   "source": [
    "test_2019 = test_2019.fillna(0)"
   ]
  },
  {
   "cell_type": "code",
   "execution_count": 34,
   "id": "a9c72f6d",
   "metadata": {},
   "outputs": [
    {
     "data": {
      "text/plain": [
       "bq11       0\n",
       "bq12_1     0\n",
       "bq12_2     0\n",
       "bq12_3     0\n",
       "bq12_4     0\n",
       "bq12_5     0\n",
       "bq13_1     0\n",
       "bq13_2     0\n",
       "bq13_3     0\n",
       "bq14_1     0\n",
       "bq14_2     0\n",
       "bq14_3     0\n",
       "bq14_4     0\n",
       "bq14_5     0\n",
       "bq15       0\n",
       "bq16_1     0\n",
       "bq16_2     0\n",
       "bq16_3     0\n",
       "bq16_4     0\n",
       "bq16_5     0\n",
       "bq17       0\n",
       "bq18_1     0\n",
       "bq18_2     0\n",
       "bq18_3     0\n",
       "bq18_4     0\n",
       "bq18_5     0\n",
       "bq18_6     0\n",
       "bq18_7     0\n",
       "bq18_8     0\n",
       "bq18_9     0\n",
       "bq18_10    0\n",
       "bq19       0\n",
       "bq20       0\n",
       "bq20_1     0\n",
       "bq21_1     0\n",
       "bq21_2     0\n",
       "bq21_3     0\n",
       "bq22       0\n",
       "bq23       0\n",
       "bq24       0\n",
       "bq25       0\n",
       "bq26       0\n",
       "bq27       0\n",
       "bq27_1     0\n",
       "bq28       0\n",
       "bq28_1     0\n",
       "bq28_2     0\n",
       "bq29       0\n",
       "bq30       0\n",
       "bq31_1     0\n",
       "bq31_2     0\n",
       "bq31_3     0\n",
       "dtype: int64"
      ]
     },
     "execution_count": 34,
     "metadata": {},
     "output_type": "execute_result"
    }
   ],
   "source": [
    "test_2019.isnull().sum()[100:]"
   ]
  },
  {
   "cell_type": "code",
   "execution_count": 35,
   "id": "47554aa4",
   "metadata": {},
   "outputs": [],
   "source": [
    "# int형으로 바꾸기 위해서 1.null 값처리 2. bq30 번에 37.5 float 형 처리 필요함 \n",
    "# train과 동일하게 시간을 float로 처리할지\n",
    "\n",
    "for i in test_2019.columns : \n",
    "#     if i == 'bq30':\n",
    "#         know_2019[i] = know_2019[i].astype(float)\n",
    "    if i not in str_li : \n",
    "        test_2019[i] = test_2019[i].astype(int)\n",
    "    else :\n",
    "        test_2019[i] = test_2019[i].astype(str)"
   ]
  },
  {
   "cell_type": "code",
   "execution_count": 36,
   "id": "47882e52",
   "metadata": {},
   "outputs": [
    {
     "name": "stdout",
     "output_type": "stream",
     "text": [
      "Series([], Name: kq1_2, dtype: int32)\n",
      "Series([], Name: kq2_2, dtype: int32)\n",
      "Series([], Name: kq3_2, dtype: int32)\n",
      "Series([], Name: kq4_2, dtype: int32)\n",
      "Series([], Name: kq5_2, dtype: int32)\n",
      "Series([], Name: kq6_2, dtype: int32)\n",
      "Series([], Name: kq7_2, dtype: int32)\n",
      "Series([], Name: kq8_2, dtype: int32)\n",
      "Series([], Name: kq9_2, dtype: int32)\n",
      "Series([], Name: kq10_2, dtype: int32)\n",
      "Series([], Name: kq11_2, dtype: int32)\n",
      "Series([], Name: kq12_2, dtype: int32)\n",
      "Series([], Name: kq13_2, dtype: int32)\n",
      "Series([], Name: kq14_2, dtype: int32)\n",
      "Series([], Name: kq15_2, dtype: int32)\n",
      "Series([], Name: kq16_2, dtype: int32)\n",
      "Series([], Name: kq17_2, dtype: int32)\n",
      "Series([], Name: kq18_2, dtype: int32)\n",
      "Series([], Name: kq19_2, dtype: int32)\n",
      "Series([], Name: kq20_2, dtype: int32)\n",
      "Series([], Name: kq21_2, dtype: int32)\n",
      "Series([], Name: kq22_2, dtype: int32)\n",
      "Series([], Name: kq23_2, dtype: int32)\n",
      "Series([], Name: kq24_2, dtype: int32)\n",
      "Series([], Name: kq25_2, dtype: int32)\n",
      "Series([], Name: kq26_2, dtype: int32)\n",
      "Series([], Name: kq27_2, dtype: int32)\n",
      "Series([], Name: kq28_2, dtype: int32)\n",
      "Series([], Name: kq29_2, dtype: int32)\n",
      "Series([], Name: kq30_2, dtype: int32)\n",
      "Series([], Name: kq31_2, dtype: int32)\n",
      "Series([], Name: kq32_2, dtype: int32)\n",
      "Series([], Name: kq33_2, dtype: int32)\n"
     ]
    }
   ],
   "source": [
    "# _1 에서 1을 선택한 사람중 _2 답변을 한 사람이 있는지 확인\n",
    "\n",
    "for i in range(33) :\n",
    "    str5 = 'kq' + str(i+1) +'_1'\n",
    "    str6 = 'kq' + str(i+1) +'_2'\n",
    "    \n",
    "    print(test_2019[(test_2019[str5]==1) & (test_2019[str6]!=0)][str6])\n",
    "    "
   ]
  },
  {
   "cell_type": "code",
   "execution_count": 37,
   "id": "1abd4ef6",
   "metadata": {},
   "outputs": [
    {
     "name": "stdout",
     "output_type": "stream",
     "text": [
      "Series([], Name: kq1_2, dtype: int32)\n",
      "Series([], Name: kq2_2, dtype: int32)\n",
      "Series([], Name: kq3_2, dtype: int32)\n",
      "Series([], Name: kq4_2, dtype: int32)\n",
      "Series([], Name: kq5_2, dtype: int32)\n",
      "Series([], Name: kq6_2, dtype: int32)\n",
      "Series([], Name: kq7_2, dtype: int32)\n",
      "Series([], Name: kq8_2, dtype: int32)\n",
      "Series([], Name: kq9_2, dtype: int32)\n",
      "Series([], Name: kq10_2, dtype: int32)\n",
      "Series([], Name: kq11_2, dtype: int32)\n",
      "Series([], Name: kq12_2, dtype: int32)\n",
      "Series([], Name: kq13_2, dtype: int32)\n",
      "Series([], Name: kq14_2, dtype: int32)\n",
      "Series([], Name: kq15_2, dtype: int32)\n",
      "Series([], Name: kq16_2, dtype: int32)\n",
      "Series([], Name: kq17_2, dtype: int32)\n",
      "Series([], Name: kq18_2, dtype: int32)\n",
      "Series([], Name: kq19_2, dtype: int32)\n",
      "Series([], Name: kq20_2, dtype: int32)\n",
      "Series([], Name: kq21_2, dtype: int32)\n",
      "Series([], Name: kq22_2, dtype: int32)\n",
      "Series([], Name: kq23_2, dtype: int32)\n",
      "Series([], Name: kq24_2, dtype: int32)\n",
      "Series([], Name: kq25_2, dtype: int32)\n",
      "Series([], Name: kq26_2, dtype: int32)\n",
      "Series([], Name: kq27_2, dtype: int32)\n",
      "Series([], Name: kq28_2, dtype: int32)\n",
      "Series([], Name: kq29_2, dtype: int32)\n",
      "Series([], Name: kq30_2, dtype: int32)\n",
      "Series([], Name: kq31_2, dtype: int32)\n",
      "Series([], Name: kq32_2, dtype: int32)\n",
      "Series([], Name: kq33_2, dtype: int32)\n"
     ]
    }
   ],
   "source": [
    "# 답변이 있어야하는 셀 중 빈셀 있는지 확인 \n",
    "\n",
    "for i in range(33) :\n",
    "    str5 = 'kq' + str(i+1) +'_1'\n",
    "    str6 = 'kq' + str(i+1) +'_2'\n",
    "    \n",
    "    print(test_2019[(test_2019[str5].isin([2,3,4,5])) & (test_2019[str6]==0)][str6])\n",
    "    "
   ]
  },
  {
   "cell_type": "code",
   "execution_count": 38,
   "id": "39b683cf",
   "metadata": {},
   "outputs": [
    {
     "data": {
      "text/plain": [
       "없음       8\n",
       "한목건축과    1\n",
       "Name: bq27_1, dtype: int64"
      ]
     },
     "execution_count": 38,
     "metadata": {},
     "output_type": "execute_result"
    }
   ],
   "source": [
    "# bq27=1(중졸)인 사람중 학과 입력한 사람\n",
    "test_2019[(test_2019.bq27==1) & (test_2019.bq27_1!='0')]['bq27_1'].value_counts()"
   ]
  },
  {
   "cell_type": "code",
   "execution_count": 39,
   "id": "a50b4b0e",
   "metadata": {},
   "outputs": [
    {
     "data": {
      "text/plain": [
       "Int64Index([6006], dtype='int64')"
      ]
     },
     "execution_count": 39,
     "metadata": {},
     "output_type": "execute_result"
    }
   ],
   "source": [
    "# 학과에 '한목건축과' -> 한옥건축과의 오타로 추정\n",
    "# 한옥건축과의 명칭을 가진 학과는 전남도립대학(2~3년제)에 존재하여 3으로 처리 \n",
    "test_2019[(test_2019.bq27==1) & (test_2019.bq27_1=='한목건축과')].index"
   ]
  },
  {
   "cell_type": "code",
   "execution_count": 40,
   "id": "75cc9852",
   "metadata": {},
   "outputs": [],
   "source": [
    "# 한옥건축과의 명칭을 가진 학과는 전남도립대학(2~3년제)에 존재하여 3으로 처리 \n",
    "test_2019.iloc[6006,142] = 3"
   ]
  },
  {
   "cell_type": "code",
   "execution_count": 41,
   "id": "b2a2da2c",
   "metadata": {},
   "outputs": [
    {
     "data": {
      "text/plain": [
       "없음    8\n",
       "Name: bq27_1, dtype: int64"
      ]
     },
     "execution_count": 41,
     "metadata": {},
     "output_type": "execute_result"
    }
   ],
   "source": [
    "test_2019[(test_2019.bq27==1) & (test_2019.bq27_1!='0')]['bq27_1'].value_counts()"
   ]
  },
  {
   "cell_type": "code",
   "execution_count": 42,
   "id": "42bd7805",
   "metadata": {},
   "outputs": [
    {
     "data": {
      "text/plain": [
       "Int64Index([719, 2601, 3923, 4897, 5696, 7252, 7272, 7820], dtype='int64')"
      ]
     },
     "execution_count": 42,
     "metadata": {},
     "output_type": "execute_result"
    }
   ],
   "source": [
    "null_li5 = test_2019[(test_2019.bq27==1) & (test_2019.bq27_1!='0')].index\n",
    "null_li5"
   ]
  },
  {
   "cell_type": "code",
   "execution_count": 43,
   "id": "ca279bb7",
   "metadata": {},
   "outputs": [],
   "source": [
    "for i in null_li5 :\n",
    "    test_2019.iloc[i,143] = '0' "
   ]
  },
  {
   "cell_type": "code",
   "execution_count": 44,
   "id": "15864cc5",
   "metadata": {},
   "outputs": [
    {
     "data": {
      "text/plain": [
       "Int64Index([], dtype='int64')"
      ]
     },
     "execution_count": 44,
     "metadata": {},
     "output_type": "execute_result"
    }
   ],
   "source": [
    "null_li5 = test_2019[(test_2019.bq27==1) & (test_2019.bq27_1!='0')].index\n",
    "null_li5"
   ]
  },
  {
   "cell_type": "code",
   "execution_count": 45,
   "id": "d8ccb4b8",
   "metadata": {},
   "outputs": [
    {
     "data": {
      "text/plain": [
       "Series([], Name: bq27, dtype: int64)"
      ]
     },
     "execution_count": 45,
     "metadata": {},
     "output_type": "execute_result"
    }
   ],
   "source": [
    "# 고졸 이상중 학과 입력안한 사람 \n",
    "# 앞에서 주관식 항목의 빈값(결측치)를 '0'으로 처리했기 때문에 '0'으로 찾아야함\n",
    "test_2019[(test_2019.bq27.isin([2,3,4,5,6])) & (test_2019.bq27_1==0)]['bq27'].value_counts()"
   ]
  },
  {
   "cell_type": "code",
   "execution_count": 46,
   "id": "3fc20471",
   "metadata": {},
   "outputs": [],
   "source": [
    "# 근로시간 및 근로소득 \n",
    "#test 결측치를 train의 업종의 중위값으로 대체 "
   ]
  },
  {
   "cell_type": "code",
   "execution_count": 47,
   "id": "161e7840",
   "metadata": {},
   "outputs": [
    {
     "data": {
      "text/plain": [
       "Int64Index([ 152,  281,  442,  811, 1288, 1465, 2092, 2231, 2606, 2728, 3069,\n",
       "            3493, 3818, 4274, 4758, 4845, 4860, 6109, 6499, 7336, 7621, 8460],\n",
       "           dtype='int64')"
      ]
     },
     "execution_count": 47,
     "metadata": {},
     "output_type": "execute_result"
    }
   ],
   "source": [
    "# 근로시간\n",
    "\n",
    "null_li = test_2019[test_2019.bq30==0].index\n",
    "null_li"
   ]
  },
  {
   "cell_type": "code",
   "execution_count": 48,
   "id": "c0cfea31",
   "metadata": {},
   "outputs": [],
   "source": [
    "for i in null_li:\n",
    "      test_2019.iloc[i,148]=round(train_2019[(train_2019.bq1 ==test_2019.iloc[i,83])&(train_2019.bq30!=0)].bq30.median())"
   ]
  },
  {
   "cell_type": "code",
   "execution_count": 49,
   "id": "d1b6624c",
   "metadata": {},
   "outputs": [
    {
     "data": {
      "text/plain": [
       "Int64Index([], dtype='int64')"
      ]
     },
     "execution_count": 49,
     "metadata": {},
     "output_type": "execute_result"
    }
   ],
   "source": [
    "null_li = test_2019[test_2019.bq30==0].index\n",
    "null_li"
   ]
  },
  {
   "cell_type": "code",
   "execution_count": 50,
   "id": "bc10f53e",
   "metadata": {},
   "outputs": [
    {
     "data": {
      "text/plain": [
       "Int64Index([  89,  150,  181,  260,  294,  313,  328,  364,  419,  459,\n",
       "            ...\n",
       "            8034, 8072, 8083, 8114, 8136, 8152, 8168, 8357, 8437, 8464],\n",
       "           dtype='int64', length=155)"
      ]
     },
     "execution_count": 50,
     "metadata": {},
     "output_type": "execute_result"
    }
   ],
   "source": [
    "## 근로소득(임금근로자)\n",
    "\n",
    "null_li2 = test_2019[(test_2019.bq28==1) & (test_2019.bq31_1==0)].index\n",
    "null_li2"
   ]
  },
  {
   "cell_type": "code",
   "execution_count": 51,
   "id": "d631f6f1",
   "metadata": {},
   "outputs": [],
   "source": [
    "for i in null_li2:\n",
    "      test_2019.iloc[i,149] = round(train_2019[(train_2019.bq1 ==test_2019.iloc[i,83])&(train_2019.bq31_1!=0)].bq31_1.median())"
   ]
  },
  {
   "cell_type": "code",
   "execution_count": 52,
   "id": "63706e23",
   "metadata": {},
   "outputs": [
    {
     "data": {
      "text/plain": [
       "Int64Index([], dtype='int64')"
      ]
     },
     "execution_count": 52,
     "metadata": {},
     "output_type": "execute_result"
    }
   ],
   "source": [
    "null_li2 = test_2019[(test_2019.bq28==1) & (test_2019.bq31_1==0)].index\n",
    "null_li2"
   ]
  },
  {
   "cell_type": "code",
   "execution_count": 53,
   "id": "6873e574",
   "metadata": {},
   "outputs": [
    {
     "data": {
      "text/plain": [
       "Int64Index([ 150,  162,  181,  247,  294,  313,  354,  364,  397,  432,\n",
       "            ...\n",
       "            8172, 8200, 8213, 8220, 8259, 8357, 8432, 8453, 8464, 8466],\n",
       "           dtype='int64', length=249)"
      ]
     },
     "execution_count": 53,
     "metadata": {},
     "output_type": "execute_result"
    }
   ],
   "source": [
    "null_li3 = test_2019[(test_2019.bq28==1) & (test_2019.bq31_2==0)].index\n",
    "null_li3"
   ]
  },
  {
   "cell_type": "code",
   "execution_count": 54,
   "id": "10af562e",
   "metadata": {},
   "outputs": [],
   "source": [
    "for i in null_li3:\n",
    "      test_2019.iloc[i,150] = round(train_2019[(train_2019.bq1 ==test_2019.iloc[i,83])&(train_2019.bq31_2!=0)].bq31_2.median())"
   ]
  },
  {
   "cell_type": "code",
   "execution_count": 55,
   "id": "da0c904c",
   "metadata": {},
   "outputs": [
    {
     "data": {
      "text/plain": [
       "Int64Index([], dtype='int64')"
      ]
     },
     "execution_count": 55,
     "metadata": {},
     "output_type": "execute_result"
    }
   ],
   "source": [
    "null_li3 = test_2019[(test_2019.bq28==1) & (test_2019.bq31_2==0)].index\n",
    "null_li3"
   ]
  },
  {
   "cell_type": "code",
   "execution_count": 56,
   "id": "2f8298ca",
   "metadata": {},
   "outputs": [
    {
     "data": {
      "text/plain": [
       "Int64Index([ 140,  439,  510,  747,  829,  866, 1005, 1092, 1188, 1240, 1441,\n",
       "            1461, 1628, 1655, 1694, 1755, 1889, 1943, 2049, 2068, 2094, 2215,\n",
       "            2740, 2767, 2793, 2814, 2856, 3073, 3173, 3388, 3408, 3511, 3635,\n",
       "            3779, 3835, 4018, 4179, 4712, 4758, 5187, 5275, 5323, 5710, 6093,\n",
       "            6464, 6496, 6527, 6771, 7094, 7103, 7110, 7156, 7572, 7860, 8091,\n",
       "            8314, 8488],\n",
       "           dtype='int64')"
      ]
     },
     "execution_count": 56,
     "metadata": {},
     "output_type": "execute_result"
    }
   ],
   "source": [
    "null_li4 = test_2019[(test_2019.bq28==2) & (test_2019.bq31_3==0)].index\n",
    "null_li4"
   ]
  },
  {
   "cell_type": "code",
   "execution_count": 57,
   "id": "62d12e6e",
   "metadata": {},
   "outputs": [],
   "source": [
    "for i in null_li4:\n",
    "      test_2019.iloc[i,151] = round(train_2019[(train_2019.bq1 ==test_2019.iloc[i,83])&(train_2019.bq31_3!=0)].bq31_3.median())"
   ]
  },
  {
   "cell_type": "code",
   "execution_count": 58,
   "id": "62f6ac4a",
   "metadata": {},
   "outputs": [
    {
     "data": {
      "text/plain": [
       "Int64Index([], dtype='int64')"
      ]
     },
     "execution_count": 58,
     "metadata": {},
     "output_type": "execute_result"
    }
   ],
   "source": [
    "null_li4 = test_2019[(test_2019.bq28==2) & (test_2019.bq31_3==0)].index\n",
    "null_li4"
   ]
  },
  {
   "cell_type": "markdown",
   "id": "5e63fa99",
   "metadata": {},
   "source": [
    "답변이 있어야하는 셀 중 빈셀 있는지 확인 \n",
    "\n",
    "1. 주관식으로 버릴 항목 \n",
    "bq18_10 \n",
    "bq20_1\n",
    "\n",
    "2. 학과 \n",
    "bq27_1 bq27 23456인데 학과 공백 많음 \n",
    "       bq27 1 인 사람 중 없음으로 기재한 사람이 있음 \n",
    "       \n",
    "3. 근로시간 \n",
    "bq30 윗 셀 참조 \n",
    "\n",
    "4. 근로소득 \n",
    "종사하고 있는 산업의 평균값으로 처리할 예정 \n",
    "\n",
    "bq31_1 \n",
    "bq31_2 \n",
    "윗셀 참조\n",
    "\n",
    "bq31_3"
   ]
  },
  {
   "cell_type": "code",
   "execution_count": 59,
   "id": "02e098dc",
   "metadata": {},
   "outputs": [],
   "source": [
    "test_2019.to_csv(\"know_2019_test_enutf.csv\", encoding='utf8', index=False)\n",
    "test_2019.to_csv(\"know_2019_test_encp.csv\", encoding='cp949', index=False)"
   ]
  },
  {
   "cell_type": "code",
   "execution_count": 60,
   "id": "cf3e1190",
   "metadata": {},
   "outputs": [
    {
     "name": "stdout",
     "output_type": "stream",
     "text": [
      "<class 'pandas.core.frame.DataFrame'>\n",
      "RangeIndex: 8554 entries, 0 to 8553\n",
      "Data columns (total 152 columns):\n",
      " #    Column   Dtype \n",
      "---   ------   ----- \n",
      " 0    idx      int64 \n",
      " 1    sq1      int64 \n",
      " 2    sq2      int64 \n",
      " 3    sq3      int64 \n",
      " 4    sq4      int64 \n",
      " 5    sq5      int64 \n",
      " 6    sq6      int64 \n",
      " 7    sq7      int64 \n",
      " 8    sq8      int64 \n",
      " 9    sq9      int64 \n",
      " 10   sq10     int64 \n",
      " 11   sq11     int64 \n",
      " 12   sq12     int64 \n",
      " 13   sq13     int64 \n",
      " 14   sq14     int64 \n",
      " 15   sq15     int64 \n",
      " 16   sq16     int64 \n",
      " 17   kq1_1    int64 \n",
      " 18   kq1_2    int64 \n",
      " 19   kq2_1    int64 \n",
      " 20   kq2_2    int64 \n",
      " 21   kq3_1    int64 \n",
      " 22   kq3_2    int64 \n",
      " 23   kq4_1    int64 \n",
      " 24   kq4_2    int64 \n",
      " 25   kq5_1    int64 \n",
      " 26   kq5_2    int64 \n",
      " 27   kq6_1    int64 \n",
      " 28   kq6_2    int64 \n",
      " 29   kq7_1    int64 \n",
      " 30   kq7_2    int64 \n",
      " 31   kq8_1    int64 \n",
      " 32   kq8_2    int64 \n",
      " 33   kq9_1    int64 \n",
      " 34   kq9_2    int64 \n",
      " 35   kq10_1   int64 \n",
      " 36   kq10_2   int64 \n",
      " 37   kq11_1   int64 \n",
      " 38   kq11_2   int64 \n",
      " 39   kq12_1   int64 \n",
      " 40   kq12_2   int64 \n",
      " 41   kq13_1   int64 \n",
      " 42   kq13_2   int64 \n",
      " 43   kq14_1   int64 \n",
      " 44   kq14_2   int64 \n",
      " 45   kq15_1   int64 \n",
      " 46   kq15_2   int64 \n",
      " 47   kq16_1   int64 \n",
      " 48   kq16_2   int64 \n",
      " 49   kq17_1   int64 \n",
      " 50   kq17_2   int64 \n",
      " 51   kq18_1   int64 \n",
      " 52   kq18_2   int64 \n",
      " 53   kq19_1   int64 \n",
      " 54   kq19_2   int64 \n",
      " 55   kq20_1   int64 \n",
      " 56   kq20_2   int64 \n",
      " 57   kq21_1   int64 \n",
      " 58   kq21_2   int64 \n",
      " 59   kq22_1   int64 \n",
      " 60   kq22_2   int64 \n",
      " 61   kq23_1   int64 \n",
      " 62   kq23_2   int64 \n",
      " 63   kq24_1   int64 \n",
      " 64   kq24_2   int64 \n",
      " 65   kq25_1   int64 \n",
      " 66   kq25_2   int64 \n",
      " 67   kq26_1   int64 \n",
      " 68   kq26_2   int64 \n",
      " 69   kq27_1   int64 \n",
      " 70   kq27_2   int64 \n",
      " 71   kq28_1   int64 \n",
      " 72   kq28_2   int64 \n",
      " 73   kq29_1   int64 \n",
      " 74   kq29_2   int64 \n",
      " 75   kq30_1   int64 \n",
      " 76   kq30_2   int64 \n",
      " 77   kq31_1   int64 \n",
      " 78   kq31_2   int64 \n",
      " 79   kq32_1   int64 \n",
      " 80   kq32_2   int64 \n",
      " 81   kq33_1   int64 \n",
      " 82   kq33_2   int64 \n",
      " 83   bq1      int64 \n",
      " 84   bq2      int64 \n",
      " 85   bq3      int64 \n",
      " 86   bq4      int64 \n",
      " 87   bq4_1a   object\n",
      " 88   bq4_1b   object\n",
      " 89   bq4_1c   object\n",
      " 90   bq5      int64 \n",
      " 91   bq5_1    int64 \n",
      " 92   bq5_2    object\n",
      " 93   bq6      int64 \n",
      " 94   bq7      int64 \n",
      " 95   bq8_1    int64 \n",
      " 96   bq8_2    int64 \n",
      " 97   bq8_3    int64 \n",
      " 98   bq9      int64 \n",
      " 99   bq10     int64 \n",
      " 100  bq11     int64 \n",
      " 101  bq12_1   int64 \n",
      " 102  bq12_2   int64 \n",
      " 103  bq12_3   int64 \n",
      " 104  bq12_4   int64 \n",
      " 105  bq12_5   int64 \n",
      " 106  bq13_1   int64 \n",
      " 107  bq13_2   int64 \n",
      " 108  bq13_3   int64 \n",
      " 109  bq14_1   int64 \n",
      " 110  bq14_2   int64 \n",
      " 111  bq14_3   int64 \n",
      " 112  bq14_4   int64 \n",
      " 113  bq14_5   int64 \n",
      " 114  bq15     int64 \n",
      " 115  bq16_1   int64 \n",
      " 116  bq16_2   int64 \n",
      " 117  bq16_3   int64 \n",
      " 118  bq16_4   int64 \n",
      " 119  bq16_5   int64 \n",
      " 120  bq17     int64 \n",
      " 121  bq18_1   int64 \n",
      " 122  bq18_2   int64 \n",
      " 123  bq18_3   int64 \n",
      " 124  bq18_4   int64 \n",
      " 125  bq18_5   int64 \n",
      " 126  bq18_6   int64 \n",
      " 127  bq18_7   int64 \n",
      " 128  bq18_8   int64 \n",
      " 129  bq18_9   int64 \n",
      " 130  bq18_10  object\n",
      " 131  bq19     int64 \n",
      " 132  bq20     int64 \n",
      " 133  bq20_1   object\n",
      " 134  bq21_1   int64 \n",
      " 135  bq21_2   int64 \n",
      " 136  bq21_3   int64 \n",
      " 137  bq22     object\n",
      " 138  bq23     object\n",
      " 139  bq24     object\n",
      " 140  bq25     int64 \n",
      " 141  bq26     int64 \n",
      " 142  bq27     int64 \n",
      " 143  bq27_1   object\n",
      " 144  bq28     int64 \n",
      " 145  bq28_1   int64 \n",
      " 146  bq28_2   int64 \n",
      " 147  bq29     int64 \n",
      " 148  bq30     int64 \n",
      " 149  bq31_1   int64 \n",
      " 150  bq31_2   int64 \n",
      " 151  bq31_3   int64 \n",
      "dtypes: int64(142), object(10)\n",
      "memory usage: 9.9+ MB\n"
     ]
    }
   ],
   "source": [
    "df_cp = pd.read_csv(\"know_2019_test_encp.csv\", encoding='cp949')\n",
    "df_cp.info(verbose=1)"
   ]
  },
  {
   "cell_type": "code",
   "execution_count": 61,
   "id": "506abd66",
   "metadata": {},
   "outputs": [
    {
     "name": "stdout",
     "output_type": "stream",
     "text": [
      "<class 'pandas.core.frame.DataFrame'>\n",
      "RangeIndex: 8554 entries, 0 to 8553\n",
      "Data columns (total 152 columns):\n",
      " #    Column   Dtype \n",
      "---   ------   ----- \n",
      " 0    idx      int64 \n",
      " 1    sq1      int64 \n",
      " 2    sq2      int64 \n",
      " 3    sq3      int64 \n",
      " 4    sq4      int64 \n",
      " 5    sq5      int64 \n",
      " 6    sq6      int64 \n",
      " 7    sq7      int64 \n",
      " 8    sq8      int64 \n",
      " 9    sq9      int64 \n",
      " 10   sq10     int64 \n",
      " 11   sq11     int64 \n",
      " 12   sq12     int64 \n",
      " 13   sq13     int64 \n",
      " 14   sq14     int64 \n",
      " 15   sq15     int64 \n",
      " 16   sq16     int64 \n",
      " 17   kq1_1    int64 \n",
      " 18   kq1_2    int64 \n",
      " 19   kq2_1    int64 \n",
      " 20   kq2_2    int64 \n",
      " 21   kq3_1    int64 \n",
      " 22   kq3_2    int64 \n",
      " 23   kq4_1    int64 \n",
      " 24   kq4_2    int64 \n",
      " 25   kq5_1    int64 \n",
      " 26   kq5_2    int64 \n",
      " 27   kq6_1    int64 \n",
      " 28   kq6_2    int64 \n",
      " 29   kq7_1    int64 \n",
      " 30   kq7_2    int64 \n",
      " 31   kq8_1    int64 \n",
      " 32   kq8_2    int64 \n",
      " 33   kq9_1    int64 \n",
      " 34   kq9_2    int64 \n",
      " 35   kq10_1   int64 \n",
      " 36   kq10_2   int64 \n",
      " 37   kq11_1   int64 \n",
      " 38   kq11_2   int64 \n",
      " 39   kq12_1   int64 \n",
      " 40   kq12_2   int64 \n",
      " 41   kq13_1   int64 \n",
      " 42   kq13_2   int64 \n",
      " 43   kq14_1   int64 \n",
      " 44   kq14_2   int64 \n",
      " 45   kq15_1   int64 \n",
      " 46   kq15_2   int64 \n",
      " 47   kq16_1   int64 \n",
      " 48   kq16_2   int64 \n",
      " 49   kq17_1   int64 \n",
      " 50   kq17_2   int64 \n",
      " 51   kq18_1   int64 \n",
      " 52   kq18_2   int64 \n",
      " 53   kq19_1   int64 \n",
      " 54   kq19_2   int64 \n",
      " 55   kq20_1   int64 \n",
      " 56   kq20_2   int64 \n",
      " 57   kq21_1   int64 \n",
      " 58   kq21_2   int64 \n",
      " 59   kq22_1   int64 \n",
      " 60   kq22_2   int64 \n",
      " 61   kq23_1   int64 \n",
      " 62   kq23_2   int64 \n",
      " 63   kq24_1   int64 \n",
      " 64   kq24_2   int64 \n",
      " 65   kq25_1   int64 \n",
      " 66   kq25_2   int64 \n",
      " 67   kq26_1   int64 \n",
      " 68   kq26_2   int64 \n",
      " 69   kq27_1   int64 \n",
      " 70   kq27_2   int64 \n",
      " 71   kq28_1   int64 \n",
      " 72   kq28_2   int64 \n",
      " 73   kq29_1   int64 \n",
      " 74   kq29_2   int64 \n",
      " 75   kq30_1   int64 \n",
      " 76   kq30_2   int64 \n",
      " 77   kq31_1   int64 \n",
      " 78   kq31_2   int64 \n",
      " 79   kq32_1   int64 \n",
      " 80   kq32_2   int64 \n",
      " 81   kq33_1   int64 \n",
      " 82   kq33_2   int64 \n",
      " 83   bq1      int64 \n",
      " 84   bq2      int64 \n",
      " 85   bq3      int64 \n",
      " 86   bq4      int64 \n",
      " 87   bq4_1a   object\n",
      " 88   bq4_1b   object\n",
      " 89   bq4_1c   object\n",
      " 90   bq5      int64 \n",
      " 91   bq5_1    int64 \n",
      " 92   bq5_2    object\n",
      " 93   bq6      int64 \n",
      " 94   bq7      int64 \n",
      " 95   bq8_1    int64 \n",
      " 96   bq8_2    int64 \n",
      " 97   bq8_3    int64 \n",
      " 98   bq9      int64 \n",
      " 99   bq10     int64 \n",
      " 100  bq11     int64 \n",
      " 101  bq12_1   int64 \n",
      " 102  bq12_2   int64 \n",
      " 103  bq12_3   int64 \n",
      " 104  bq12_4   int64 \n",
      " 105  bq12_5   int64 \n",
      " 106  bq13_1   int64 \n",
      " 107  bq13_2   int64 \n",
      " 108  bq13_3   int64 \n",
      " 109  bq14_1   int64 \n",
      " 110  bq14_2   int64 \n",
      " 111  bq14_3   int64 \n",
      " 112  bq14_4   int64 \n",
      " 113  bq14_5   int64 \n",
      " 114  bq15     int64 \n",
      " 115  bq16_1   int64 \n",
      " 116  bq16_2   int64 \n",
      " 117  bq16_3   int64 \n",
      " 118  bq16_4   int64 \n",
      " 119  bq16_5   int64 \n",
      " 120  bq17     int64 \n",
      " 121  bq18_1   int64 \n",
      " 122  bq18_2   int64 \n",
      " 123  bq18_3   int64 \n",
      " 124  bq18_4   int64 \n",
      " 125  bq18_5   int64 \n",
      " 126  bq18_6   int64 \n",
      " 127  bq18_7   int64 \n",
      " 128  bq18_8   int64 \n",
      " 129  bq18_9   int64 \n",
      " 130  bq18_10  object\n",
      " 131  bq19     int64 \n",
      " 132  bq20     int64 \n",
      " 133  bq20_1   object\n",
      " 134  bq21_1   int64 \n",
      " 135  bq21_2   int64 \n",
      " 136  bq21_3   int64 \n",
      " 137  bq22     object\n",
      " 138  bq23     object\n",
      " 139  bq24     object\n",
      " 140  bq25     int64 \n",
      " 141  bq26     int64 \n",
      " 142  bq27     int64 \n",
      " 143  bq27_1   object\n",
      " 144  bq28     int64 \n",
      " 145  bq28_1   int64 \n",
      " 146  bq28_2   int64 \n",
      " 147  bq29     int64 \n",
      " 148  bq30     int64 \n",
      " 149  bq31_1   int64 \n",
      " 150  bq31_2   int64 \n",
      " 151  bq31_3   int64 \n",
      "dtypes: int64(142), object(10)\n",
      "memory usage: 9.9+ MB\n"
     ]
    }
   ],
   "source": [
    "df_utf = pd.read_csv(\"know_2019_test_enutf.csv\")\n",
    "df_utf.info(verbose=1)"
   ]
  },
  {
   "cell_type": "code",
   "execution_count": null,
   "id": "cea50ec0",
   "metadata": {},
   "outputs": [],
   "source": []
  }
 ],
 "metadata": {
  "kernelspec": {
   "display_name": "Python 3 (ipykernel)",
   "language": "python",
   "name": "python3"
  },
  "language_info": {
   "codemirror_mode": {
    "name": "ipython",
    "version": 3
   },
   "file_extension": ".py",
   "mimetype": "text/x-python",
   "name": "python",
   "nbconvert_exporter": "python",
   "pygments_lexer": "ipython3",
   "version": "3.9.7"
  }
 },
 "nbformat": 4,
 "nbformat_minor": 5
}
